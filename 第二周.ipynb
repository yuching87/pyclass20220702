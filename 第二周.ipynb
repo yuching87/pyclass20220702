{
  "nbformat": 4,
  "nbformat_minor": 0,
  "metadata": {
    "colab": {
      "name": "第二周.ipynb",
      "provenance": [],
      "authorship_tag": "ABX9TyPx+BMmI+ErWlXnIZcA491b",
      "include_colab_link": true
    },
    "kernelspec": {
      "name": "python3",
      "display_name": "Python 3"
    },
    "language_info": {
      "name": "python"
    }
  },
  "cells": [
    {
      "cell_type": "markdown",
      "metadata": {
        "id": "view-in-github",
        "colab_type": "text"
      },
      "source": [
        "<a href=\"https://colab.research.google.com/github/yuching87/pyclass20220702/blob/main/%E7%AC%AC%E4%BA%8C%E5%91%A8.ipynb\" target=\"_parent\"><img src=\"https://colab.research.google.com/assets/colab-badge.svg\" alt=\"Open In Colab\"/></a>"
      ]
    },
    {
      "cell_type": "markdown",
      "source": [
        "初學者需要知道的概念\n",
        "資料型態\n",
        "int ==> 整數 (0, 1, 2, ...)\n",
        "float ==> 浮點數 (3.14, 1.1, ...)\n",
        "bool ==> 布林變數 (True, False)\n",
        "str ==> 字串 (\"dog\", 'cat',...)\n",
        "容器型別\n",
        "list ==> 串列 [ ]\n",
        "tuple ==> 元組 ( )\n",
        "dict ==> 字典 { }\n",
        "set ==> 集合 { }\n",
        "基礎語法\n",
        "loops ==> 迴圈\n",
        "functions ==> 函式\n",
        "if statements ==> 條件式\n",
        "exception handling ==> 例外處理"
      ],
      "metadata": {
        "id": "YD8qqiYjlNhR"
      }
    },
    {
      "cell_type": "markdown",
      "source": [
        "#loops: for,while"
      ],
      "metadata": {
        "id": "ul9MOVgPmY-u"
      }
    },
    {
      "cell_type": "markdown",
      "source": [
        "##for loops\n",
        "```python\n",
        "for 變數 in 資料結構:\n",
        "  程式區塊(裡面可以使用上面的變數)\n",
        "  ```"
      ],
      "metadata": {
        "id": "lpArDSt7mgDd"
      }
    },
    {
      "cell_type": "code",
      "source": [
        "for i in range(3):\n",
        "  print(\"程式區塊開始\")\n",
        "  print(i)\n",
        "  print(\"程式區塊結束\")"
      ],
      "metadata": {
        "colab": {
          "base_uri": "https://localhost:8080/"
        },
        "id": "MmwEn6W0m_k9",
        "outputId": "6a88d6e1-a6c8-4e3a-ad7b-dbea669d8b2f"
      },
      "execution_count": null,
      "outputs": [
        {
          "output_type": "stream",
          "name": "stdout",
          "text": [
            "程式區塊開始\n",
            "0\n",
            "程式區塊結束\n",
            "程式區塊開始\n",
            "1\n",
            "程式區塊結束\n",
            "程式區塊開始\n",
            "2\n",
            "程式區塊結束\n"
          ]
        }
      ]
    },
    {
      "cell_type": "code",
      "source": [
        ""
      ],
      "metadata": {
        "id": "cWckhUmonyuT"
      },
      "execution_count": null,
      "outputs": []
    },
    {
      "cell_type": "code",
      "source": [
        "def health2(w, h):\n",
        "  bmi = float(w)/(float(h)**2)\n",
        "  if bmi < 18:\n",
        "    return \"體重過輕\"\n",
        "  elif bmi > 24:\n",
        "    return \"體重過重\"\n",
        "  else:\n",
        "    return \"健康體位\""
      ],
      "metadata": {
        "id": "Is70wJPhCryZ"
      },
      "execution_count": null,
      "outputs": []
    },
    {
      "cell_type": "code",
      "source": [
        "for i in range(3):\n",
        "  print(\"程式區塊開始\")\n",
        "  print(i)\n",
        "print(\"程式區塊結束\")"
      ],
      "metadata": {
        "colab": {
          "base_uri": "https://localhost:8080/"
        },
        "id": "UDPZZBWEn91y",
        "outputId": "7b272a8b-cf3b-4d52-80ae-a878ccd55db0"
      },
      "execution_count": null,
      "outputs": [
        {
          "output_type": "stream",
          "name": "stdout",
          "text": [
            "程式區塊開始\n",
            "0\n",
            "程式區塊開始\n",
            "1\n",
            "程式區塊開始\n",
            "2\n",
            "程式區塊結束\n"
          ]
        }
      ]
    },
    {
      "cell_type": "markdown",
      "source": [
        ""
      ],
      "metadata": {
        "id": "j17-ulcUnlq6"
      }
    },
    {
      "cell_type": "markdown",
      "source": [
        "##while loops\n",
        "###基本語法\n",
        "```python\n",
        "while 條件式:\n",
        "  程式區塊\n",
        "  ```"
      ],
      "metadata": {
        "id": "YDqLrVPaoP92"
      }
    },
    {
      "cell_type": "code",
      "source": [
        "x = 0\n",
        "while x < 10:\n",
        "  print(x)\n",
        "  x = x + 1"
      ],
      "metadata": {
        "colab": {
          "base_uri": "https://localhost:8080/"
        },
        "id": "nlDK0pq2ogJW",
        "outputId": "b3ec574c-29ad-41cd-c9e4-1995e2b031c6"
      },
      "execution_count": null,
      "outputs": [
        {
          "output_type": "stream",
          "name": "stdout",
          "text": [
            "0\n",
            "1\n",
            "2\n",
            "3\n",
            "4\n",
            "5\n",
            "6\n",
            "7\n",
            "8\n",
            "9\n"
          ]
        }
      ]
    },
    {
      "cell_type": "markdown",
      "source": [
        "##9X9乘法表(可以使用巢狀迴圈)\n",
        "用 for 迴圈或 while 迴圈 \n",
        "巢狀迴圈：nested loops\n",
        "\n",
        "可以用 for 迴圈或 while 迴圈做做看！"
      ],
      "metadata": {
        "id": "9c8b0BxepgDU"
      }
    },
    {
      "cell_type": "markdown",
      "source": [
        "##方法1"
      ],
      "metadata": {
        "id": "Asyqn-N1tY8F"
      }
    },
    {
      "cell_type": "code",
      "source": [
        "list(range(2, 10))"
      ],
      "metadata": {
        "id": "GDDzJ3VFqJ02"
      },
      "execution_count": null,
      "outputs": []
    },
    {
      "cell_type": "code",
      "source": [
        "for i in range(2, 10):\n",
        "  print(i)"
      ],
      "metadata": {
        "id": "lM0wr2yQpuuj"
      },
      "execution_count": null,
      "outputs": []
    },
    {
      "cell_type": "code",
      "source": [
        "# hint\n",
        "for i in range(2, 10):\n",
        "  for j in range(2, 10):\n",
        "    print(i, \"x\", j)"
      ],
      "metadata": {
        "id": "LVFxRyvWqWm0"
      },
      "execution_count": null,
      "outputs": []
    },
    {
      "cell_type": "code",
      "source": [
        "for i in range(2 , 10):\n",
        "  for j in range(2, 10):\n",
        "    print(i, \"x\", j, \"=\", i*j)"
      ],
      "metadata": {
        "id": "KBP0WsYRrOwQ"
      },
      "execution_count": null,
      "outputs": []
    },
    {
      "cell_type": "markdown",
      "source": [
        "###自己寫的\n",
        "for i in range(2 , 10):\n",
        "  for j in range(2, 10):\n",
        "    print(i, \"x\", j, =, i*j)\n",
        "= 沒加\"\""
      ],
      "metadata": {
        "id": "IxB_oBbCsmZn"
      }
    },
    {
      "cell_type": "markdown",
      "source": [
        "##方法二"
      ],
      "metadata": {
        "id": "s2-pStm0tczI"
      }
    },
    {
      "cell_type": "markdown",
      "source": [
        "###thinking"
      ],
      "metadata": {
        "id": "51X-j5p2ubff"
      }
    },
    {
      "cell_type": "code",
      "source": [
        "i = 2\n",
        "j = 2\n",
        "while i < 10:\n",
        "  while j < 10:\n",
        "    i = i + 1\n",
        "    j = j + 1  \n",
        "  print(i, \"x\", j, \"=\", i*j)\n",
        "\n",
        "  "
      ],
      "metadata": {
        "colab": {
          "base_uri": "https://localhost:8080/"
        },
        "id": "g53jVeKRtgAf",
        "outputId": "b4319171-e47b-41cf-c0b2-cf2c1546147c"
      },
      "execution_count": null,
      "outputs": [
        {
          "output_type": "stream",
          "name": "stdout",
          "text": [
            "10 x 10 = 100\n"
          ]
        }
      ]
    },
    {
      "cell_type": "code",
      "source": [
        "i = 2\n",
        "j = 2\n",
        "while i < 10:\n",
        "  while j < 10:\n",
        "    print(i, \"x\", j, \"=\", i*j)\n",
        "    j = j + 1\n",
        "  i = i + 1"
      ],
      "metadata": {
        "colab": {
          "base_uri": "https://localhost:8080/"
        },
        "id": "o54XEYRj1-km",
        "outputId": "83b8f4c9-0d01-4d8b-eb3b-ecae51f76518"
      },
      "execution_count": null,
      "outputs": [
        {
          "output_type": "stream",
          "name": "stdout",
          "text": [
            "2 x 2 = 4\n",
            "2 x 3 = 6\n",
            "2 x 4 = 8\n",
            "2 x 5 = 10\n",
            "2 x 6 = 12\n",
            "2 x 7 = 14\n",
            "2 x 8 = 16\n",
            "2 x 9 = 18\n"
          ]
        }
      ]
    },
    {
      "cell_type": "code",
      "source": [
        "i = 2\n",
        "while i < 10:\n",
        "  j = 2\n",
        "  while j < 10:\n",
        "    print(i, \"x\", j, \"=\", i*j)\n",
        "    j = j + 1\n",
        "  i = i + 1"
      ],
      "metadata": {
        "id": "9L4xl_m55_9I"
      },
      "execution_count": null,
      "outputs": []
    },
    {
      "cell_type": "markdown",
      "source": [
        "# 條件式 (if statements)\n",
        "\n",
        "語法一:\n",
        "\n",
        "使用條件式來決定程式區塊是否被執行。\n",
        "\n",
        "```python\n",
        "if 條件式:\n",
        "  程式區塊\n",
        "```"
      ],
      "metadata": {
        "id": "TY7NMJVuuTNp"
      }
    },
    {
      "cell_type": "code",
      "source": [
        "a = 3\n",
        "b = 2\n",
        "\n",
        "if a > b:\n",
        "  print(\"a > b\")"
      ],
      "metadata": {
        "id": "PXfq2vBku25f",
        "colab": {
          "base_uri": "https://localhost:8080/"
        },
        "outputId": "6c50547e-927d-4ecf-f59f-c6e813943c42"
      },
      "execution_count": null,
      "outputs": [
        {
          "output_type": "stream",
          "name": "stdout",
          "text": [
            "a > b\n"
          ]
        }
      ]
    },
    {
      "cell_type": "markdown",
      "source": [
        "語法二:\n",
        "\n",
        "使用條件式來決定執行程式區塊1還是程式區塊2。\n",
        "\n",
        "```python\n",
        "if 條件式:\n",
        "  程式區塊1\n",
        "else:\n",
        "  程式區塊2\n",
        "```\n"
      ],
      "metadata": {
        "id": "RhMyxAd8wqbF"
      }
    },
    {
      "cell_type": "code",
      "source": [
        "a = 3\n",
        "b = 2\n",
        "\n",
        "if a > b:\n",
        "  print(\"a > b\")\n",
        "else:\n",
        "  print(\"a <= b\")"
      ],
      "metadata": {
        "colab": {
          "base_uri": "https://localhost:8080/"
        },
        "id": "7GMmMHHDv-vr",
        "outputId": "c598f0e1-7123-4a16-bfff-2c2c769c1e13"
      },
      "execution_count": null,
      "outputs": [
        {
          "output_type": "stream",
          "name": "stdout",
          "text": [
            "a > b\n"
          ]
        }
      ]
    },
    {
      "cell_type": "markdown",
      "source": [
        "語法三:\n",
        "\n",
        "使用條件式1跟條件式2來決定執行程式區塊1, 程式區塊2, 還是程式區塊3。\n",
        "\n",
        "```python\n",
        "if 條件式1:\n",
        "  程式區塊1\n",
        "elif 條件式2:\n",
        "  程式區塊2\n",
        "else:\n",
        "  程式區塊3\n",
        "```"
      ],
      "metadata": {
        "id": "DfKJd8vewvVI"
      }
    },
    {
      "cell_type": "code",
      "source": [
        "a = 2\n",
        "b = 5\n",
        "\n",
        "if a > b:\n",
        "  print(\"a > b\")\n",
        "elif a < b:\n",
        "  print(\"a < b\")\n",
        "else:\n",
        "  print(\"a = b\")"
      ],
      "metadata": {
        "id": "wTJwf0oZwRjN",
        "colab": {
          "base_uri": "https://localhost:8080/"
        },
        "outputId": "7dafd9c6-abb4-4608-fc5c-d8c194f28ff4"
      },
      "execution_count": null,
      "outputs": [
        {
          "output_type": "stream",
          "name": "stdout",
          "text": [
            "a < b\n"
          ]
        }
      ]
    },
    {
      "cell_type": "markdown",
      "source": [
        "##練習\n",
        "請計算bmi並判斷體位\n",
        " $$ bmi = \\frac{體重(公斤)}{身高(公尺)^2} $$\n",
        "\n",
        "|條件|體衛|\n",
        "|:-:|:-:|\n",
        "|bmi < 18 | 體重過輕 |\n",
        "|18 <= bmi < 24 | 健康體衛 |\n",
        "|bmi > 24 | 體重過重| "
      ],
      "metadata": {
        "id": "KaoJngJfyI92"
      }
    },
    {
      "cell_type": "code",
      "source": [
        "weight = 57\n",
        "height = 1.67\n",
        "\n",
        "bmi = weight/(height**2)"
      ],
      "metadata": {
        "id": "lu24JETxxwCf"
      },
      "execution_count": null,
      "outputs": []
    },
    {
      "cell_type": "code",
      "source": [
        "bmi"
      ],
      "metadata": {
        "colab": {
          "base_uri": "https://localhost:8080/"
        },
        "id": "HjvMcUBPzPcm",
        "outputId": "4c31a947-7c7b-4c6e-abd8-02228dbb540f"
      },
      "execution_count": null,
      "outputs": [
        {
          "output_type": "execute_result",
          "data": {
            "text/plain": [
              "20.43816558499767"
            ]
          },
          "metadata": {},
          "execution_count": 61
        }
      ]
    },
    {
      "cell_type": "code",
      "source": [
        "if bmi < 18:\n",
        "  print(\"體重過輕\")\n",
        "elif bmi > 24:\n",
        "  print(\"體重過重\")\n",
        "else:\n",
        "  print(\"健康體位\")"
      ],
      "metadata": {
        "id": "g-ipftKTzQMT",
        "colab": {
          "base_uri": "https://localhost:8080/"
        },
        "outputId": "445e3d8e-c7d9-4d66-de54-9c3c4bd9d77c"
      },
      "execution_count": null,
      "outputs": [
        {
          "output_type": "stream",
          "name": "stdout",
          "text": [
            "健康體位\n"
          ]
        }
      ]
    },
    {
      "cell_type": "code",
      "source": [
        "def health1(w, h):\n",
        "  bmi = w/(h**2)\n",
        "  if bmi < 18:\n",
        "    print(\"體重過輕\")\n",
        "  elif bmi > 24:\n",
        "    print(\"體重過重\")\n",
        "  else:\n",
        "    print(\"健康體位\")"
      ],
      "metadata": {
        "id": "lgdURble2p0Q"
      },
      "execution_count": null,
      "outputs": []
    },
    {
      "cell_type": "code",
      "source": [
        "health1(58, 1.67)"
      ],
      "metadata": {
        "colab": {
          "base_uri": "https://localhost:8080/"
        },
        "id": "DKdbaJek28Xy",
        "outputId": "1f447ff7-80e2-435e-f56b-3a3e57784d05"
      },
      "execution_count": null,
      "outputs": [
        {
          "output_type": "stream",
          "name": "stdout",
          "text": [
            "健康體位\n"
          ]
        }
      ]
    },
    {
      "cell_type": "code",
      "source": [
        "def health2(w, h):\n",
        "  bmi = w/(h**2)\n",
        "  if bmi < 18:\n",
        "    return \"體重過輕\"\n",
        "  elif bmi > 24:\n",
        "    return \"體重過重\"\n",
        "  else:\n",
        "    return \"健康體位\""
      ],
      "metadata": {
        "id": "jx6YhOe85htx"
      },
      "execution_count": null,
      "outputs": []
    },
    {
      "cell_type": "code",
      "source": [
        "health2(58, 1.67)"
      ],
      "metadata": {
        "colab": {
          "base_uri": "https://localhost:8080/",
          "height": 36
        },
        "outputId": "9b72e105-4e97-4aff-9137-08306423a11a",
        "id": "O9Wcty-P5htx"
      },
      "execution_count": null,
      "outputs": [
        {
          "output_type": "execute_result",
          "data": {
            "text/plain": [
              "'健康體位'"
            ],
            "application/vnd.google.colaboratory.intrinsic+json": {
              "type": "string"
            }
          },
          "metadata": {},
          "execution_count": 42
        }
      ]
    },
    {
      "cell_type": "code",
      "source": [
        "x = health1(58, 1.67)\n",
        "y = health2(58, 1.67)"
      ],
      "metadata": {
        "colab": {
          "base_uri": "https://localhost:8080/"
        },
        "outputId": "ca75e3c1-b0c0-4021-8d40-c78e238038da",
        "id": "sST2pjmB5htx"
      },
      "execution_count": null,
      "outputs": [
        {
          "output_type": "stream",
          "name": "stdout",
          "text": [
            "健康體位\n"
          ]
        }
      ]
    },
    {
      "cell_type": "code",
      "source": [
        "print(x)"
      ],
      "metadata": {
        "outputId": "aba468ae-6a46-4915-82bc-1bd33556641f",
        "colab": {
          "base_uri": "https://localhost:8080/"
        },
        "id": "764jTQfP5htx"
      },
      "execution_count": null,
      "outputs": [
        {
          "output_type": "stream",
          "name": "stdout",
          "text": [
            "None\n"
          ]
        }
      ]
    },
    {
      "cell_type": "code",
      "source": [
        "print(y)"
      ],
      "metadata": {
        "outputId": "6a3c6cdf-5249-40d4-8399-ca2ce37e9d5a",
        "colab": {
          "base_uri": "https://localhost:8080/"
        },
        "id": "8IhdAA1R5hty"
      },
      "execution_count": null,
      "outputs": [
        {
          "output_type": "stream",
          "name": "stdout",
          "text": [
            "健康體位\n"
          ]
        }
      ]
    },
    {
      "cell_type": "code",
      "source": [
        "#用input取得資料型態為'str'\n",
        "#如果要做數值計算，需要轉型\n",
        "input(\"請輸入資料\")"
      ],
      "metadata": {
        "colab": {
          "base_uri": "https://localhost:8080/",
          "height": 53
        },
        "id": "tgj6T6d29C8j",
        "outputId": "78325cf9-8d16-4aa5-a898-8479dc842f33"
      },
      "execution_count": null,
      "outputs": [
        {
          "name": "stdout",
          "output_type": "stream",
          "text": [
            "請輸入資料222.\n"
          ]
        },
        {
          "output_type": "execute_result",
          "data": {
            "text/plain": [
              "'222.'"
            ],
            "application/vnd.google.colaboratory.intrinsic+json": {
              "type": "string"
            }
          },
          "metadata": {},
          "execution_count": 70
        }
      ]
    },
    {
      "cell_type": "code",
      "source": [
        "#底下的float()是將str轉換成float\n",
        "w=input(\"請輸入體重(公斤)\")\n",
        "h=input(\"請輸入身高(公尺)\")\n",
        "health2(float(w),float(h))\n"
      ],
      "metadata": {
        "id": "YpR_dbtz7UFZ"
      },
      "execution_count": null,
      "outputs": []
    },
    {
      "cell_type": "markdown",
      "source": [
        "#Gradio使用簡介"
      ],
      "metadata": {
        "id": "cm9Xmtn1_yw8"
      }
    },
    {
      "cell_type": "code",
      "source": [
        "!pip install gradio"
      ],
      "metadata": {
        "id": "9gBOgGSY_5_N"
      },
      "execution_count": null,
      "outputs": []
    },
    {
      "cell_type": "code",
      "source": [
        "def greet(name):\n",
        "  return \"Hello \" + name + \"!\"\n",
        "\n",
        "greet(\"World\")"
      ],
      "metadata": {
        "colab": {
          "base_uri": "https://localhost:8080/",
          "height": 36
        },
        "id": "zNef-0nXAgKb",
        "outputId": "be37ff6b-9cf4-4b5c-8d98-0e248c90d4a0"
      },
      "execution_count": null,
      "outputs": [
        {
          "output_type": "execute_result",
          "data": {
            "text/plain": [
              "'Hello World!'"
            ],
            "application/vnd.google.colaboratory.intrinsic+json": {
              "type": "string"
            }
          },
          "metadata": {},
          "execution_count": 77
        }
      ]
    },
    {
      "cell_type": "code",
      "source": [
        "import gradio"
      ],
      "metadata": {
        "id": "Mad1QdMaBA7z"
      },
      "execution_count": null,
      "outputs": []
    },
    {
      "cell_type": "code",
      "source": [
        "gradio.Interface(greet, \"text\", \"text\",title=\"fuck\").launch(share=True)"
      ],
      "metadata": {
        "colab": {
          "base_uri": "https://localhost:8080/",
          "height": 643
        },
        "id": "Z8ZBlKuGBO6C",
        "outputId": "0ccbda71-5afe-46c8-cef2-101208340742"
      },
      "execution_count": null,
      "outputs": [
        {
          "output_type": "stream",
          "name": "stdout",
          "text": [
            "Colab notebook detected. To show errors in colab notebook, set `debug=True` in `launch()`\n",
            "Running on public URL: https://50046.gradio.app\n",
            "\n",
            "This share link expires in 72 hours. For free permanent hosting, check out Spaces (https://huggingface.co/spaces)\n"
          ]
        },
        {
          "output_type": "display_data",
          "data": {
            "text/plain": [
              "<IPython.core.display.HTML object>"
            ],
            "text/html": [
              "<div><iframe src=\"https://50046.gradio.app\" width=\"900\" height=\"500\" allow=\"autoplay; camera; microphone;\" frameborder=\"0\" allowfullscreen></iframe></div>"
            ]
          },
          "metadata": {}
        },
        {
          "output_type": "execute_result",
          "data": {
            "text/plain": [
              "(<gradio.routes.App at 0x7f6fc3719410>,\n",
              " 'http://127.0.0.1:7863/',\n",
              " 'https://50046.gradio.app')"
            ]
          },
          "metadata": {},
          "execution_count": 82
        }
      ]
    },
    {
      "cell_type": "code",
      "source": [
        "gradio.Interface(health2,[\"text\", \"text\"],\"text\",title=\"判斷BMI\").launch(share=True)"
      ],
      "metadata": {
        "colab": {
          "base_uri": "https://localhost:8080/",
          "height": 643
        },
        "id": "wFAVqdYyCR7l",
        "outputId": "1c2073c1-62e9-45df-ead4-6636c1490925"
      },
      "execution_count": null,
      "outputs": [
        {
          "output_type": "stream",
          "name": "stdout",
          "text": [
            "Colab notebook detected. To show errors in colab notebook, set `debug=True` in `launch()`\n",
            "Running on public URL: https://37076.gradio.app\n",
            "\n",
            "This share link expires in 72 hours. For free permanent hosting, check out Spaces (https://huggingface.co/spaces)\n"
          ]
        },
        {
          "output_type": "display_data",
          "data": {
            "text/plain": [
              "<IPython.core.display.HTML object>"
            ],
            "text/html": [
              "<div><iframe src=\"https://37076.gradio.app\" width=\"900\" height=\"500\" allow=\"autoplay; camera; microphone;\" frameborder=\"0\" allowfullscreen></iframe></div>"
            ]
          },
          "metadata": {}
        },
        {
          "output_type": "execute_result",
          "data": {
            "text/plain": [
              "(<gradio.routes.App at 0x7f6fb8a62690>,\n",
              " 'http://127.0.0.1:7865/',\n",
              " 'https://37076.gradio.app')"
            ]
          },
          "metadata": {},
          "execution_count": 87
        }
      ]
    },
    {
      "cell_type": "code",
      "source": [
        "def health1(w, h):\n",
        "  bmi = float(w)/(float(h)**2)\n",
        "  if bmi < 18:\n",
        "    print(\"體重過輕\")\n",
        "  elif bmi > 24:\n",
        "    print(\"體重過重\")\n",
        "  else:\n",
        "    print(\"健康體位\")"
      ],
      "metadata": {
        "id": "8DbV0fmZEhit"
      },
      "execution_count": null,
      "outputs": []
    },
    {
      "cell_type": "code",
      "source": [
        "def health2(w, h):\n",
        "  bmi = float(w)/(float(h)**2)\n",
        "  if bmi < 18:\n",
        "    return \"體重過輕\"\n",
        "  elif bmi > 24:\n",
        "    return \"體重過重\"\n",
        "  else:\n",
        "    return \"健康體位\""
      ],
      "metadata": {
        "id": "fIcjlEbJV023"
      },
      "execution_count": null,
      "outputs": []
    },
    {
      "cell_type": "code",
      "source": [
        "def health3(w, h):\n",
        "  bmi = float(w)/(float(h)**2)\n",
        "  if bmi < 18:\n",
        "    return bmi, \"體重過輕\"\n",
        "  elif bmi > 24:\n",
        "    return bmi, \"體重過重\"\n",
        "  else:\n",
        "    return bmi, \"健康體位\""
      ],
      "metadata": {
        "id": "dpmoteeGGRNA"
      },
      "execution_count": null,
      "outputs": []
    },
    {
      "cell_type": "code",
      "source": [
        "gradio.Interface(health3, [\"text\",\"text\"], [\"text\",\"text\"], title=\"判斷體位狀況\").launch(share=True)"
      ],
      "metadata": {
        "id": "E-RZorsUCQVe",
        "colab": {
          "base_uri": "https://localhost:8080/",
          "height": 643
        },
        "outputId": "42d1a1f3-fab4-4105-cac9-0e5ffce8e1bd"
      },
      "execution_count": null,
      "outputs": [
        {
          "output_type": "stream",
          "name": "stdout",
          "text": [
            "Colab notebook detected. To show errors in colab notebook, set `debug=True` in `launch()`\n",
            "Running on public URL: https://31294.gradio.app\n",
            "\n",
            "This share link expires in 72 hours. For free permanent hosting, check out Spaces (https://huggingface.co/spaces)\n"
          ]
        },
        {
          "output_type": "display_data",
          "data": {
            "text/plain": [
              "<IPython.core.display.HTML object>"
            ],
            "text/html": [
              "<div><iframe src=\"https://31294.gradio.app\" width=\"900\" height=\"500\" allow=\"autoplay; camera; microphone;\" frameborder=\"0\" allowfullscreen></iframe></div>"
            ]
          },
          "metadata": {}
        },
        {
          "output_type": "execute_result",
          "data": {
            "text/plain": [
              "(<gradio.routes.App at 0x7f6fb69b7610>,\n",
              " 'http://127.0.0.1:7866/',\n",
              " 'https://31294.gradio.app')"
            ]
          },
          "metadata": {},
          "execution_count": 94
        }
      ]
    },
    {
      "cell_type": "markdown",
      "source": [
        "#爬蟲簡介"
      ],
      "metadata": {
        "id": "-0JKmF0LfKm7"
      }
    },
    {
      "cell_type": "code",
      "source": [
        "import requests"
      ],
      "metadata": {
        "id": "gLjfDbg9fV4O"
      },
      "execution_count": null,
      "outputs": []
    },
    {
      "cell_type": "code",
      "source": [
        "url=\"https://victorgau.github.io/khpy_web_intro/html_only.html\""
      ],
      "metadata": {
        "id": "mjmXfMVMfqaU"
      },
      "execution_count": null,
      "outputs": []
    },
    {
      "cell_type": "code",
      "source": [
        "r = requests.get(url)"
      ],
      "metadata": {
        "id": "FhsUEsMkfwf7"
      },
      "execution_count": null,
      "outputs": []
    },
    {
      "cell_type": "code",
      "source": [
        "print(r.text)"
      ],
      "metadata": {
        "id": "RYapflZqgGdu"
      },
      "execution_count": null,
      "outputs": []
    },
    {
      "cell_type": "code",
      "source": [
        "type (r)"
      ],
      "metadata": {
        "colab": {
          "base_uri": "https://localhost:8080/"
        },
        "id": "lT5l9M5Zgcmp",
        "outputId": "40bf1bf4-7fc0-4351-8ed7-b69a2f309c25"
      },
      "execution_count": null,
      "outputs": [
        {
          "output_type": "execute_result",
          "data": {
            "text/plain": [
              "requests.models.Response"
            ]
          },
          "metadata": {},
          "execution_count": 102
        }
      ]
    },
    {
      "cell_type": "code",
      "source": [
        "f = open(\"index.html\",\"w\")\n",
        "f.write(r.text)\n",
        "f.close()"
      ],
      "metadata": {
        "id": "Vwt0_O25hkT1"
      },
      "execution_count": null,
      "outputs": []
    },
    {
      "cell_type": "markdown",
      "source": [
        "#json v.s. dict/list差別"
      ],
      "metadata": {
        "id": "9WXvswuelyAU"
      }
    },
    {
      "cell_type": "code",
      "source": [
        "d = {}"
      ],
      "metadata": {
        "id": "fzxH0P52hHQ1"
      },
      "execution_count": null,
      "outputs": []
    },
    {
      "cell_type": "code",
      "source": [
        "d['cat'] = \"貓咪\""
      ],
      "metadata": {
        "id": "T4m7Ma5Vlx7V"
      },
      "execution_count": null,
      "outputs": []
    },
    {
      "cell_type": "code",
      "source": [
        "d['dog'] = \"狗狗\""
      ],
      "metadata": {
        "id": "9a6FO1wql1E0"
      },
      "execution_count": null,
      "outputs": []
    },
    {
      "cell_type": "code",
      "source": [
        "d"
      ],
      "metadata": {
        "colab": {
          "base_uri": "https://localhost:8080/"
        },
        "id": "ljKFbsKcl3eS",
        "outputId": "3e5c1e42-94a3-4bd9-9825-12ae95c05e88"
      },
      "execution_count": null,
      "outputs": [
        {
          "output_type": "execute_result",
          "data": {
            "text/plain": [
              "{'cat': '貓咪', 'dog': '狗狗'}"
            ]
          },
          "metadata": {},
          "execution_count": 82
        }
      ]
    },
    {
      "cell_type": "code",
      "source": [
        "type(d)"
      ],
      "metadata": {
        "colab": {
          "base_uri": "https://localhost:8080/"
        },
        "id": "MpVKM4WFl32w",
        "outputId": "77883830-51c5-49f7-9556-feb89d2a4f77"
      },
      "execution_count": null,
      "outputs": [
        {
          "output_type": "execute_result",
          "data": {
            "text/plain": [
              "dict"
            ]
          },
          "metadata": {},
          "execution_count": 83
        }
      ]
    },
    {
      "cell_type": "code",
      "source": [
        "e = '{\"cat\": \"貓咪\", \"dog\": \"狗狗\"}'"
      ],
      "metadata": {
        "id": "U6UgbajxmDeD"
      },
      "execution_count": null,
      "outputs": []
    },
    {
      "cell_type": "code",
      "source": [
        "type(e)"
      ],
      "metadata": {
        "colab": {
          "base_uri": "https://localhost:8080/"
        },
        "id": "zJLkaTNFmJ6z",
        "outputId": "5233748c-b7bc-4b80-99df-1162c57c7cd8"
      },
      "execution_count": null,
      "outputs": [
        {
          "output_type": "execute_result",
          "data": {
            "text/plain": [
              "str"
            ]
          },
          "metadata": {},
          "execution_count": 90
        }
      ]
    },
    {
      "cell_type": "code",
      "source": [
        "print(e)"
      ],
      "metadata": {
        "colab": {
          "base_uri": "https://localhost:8080/"
        },
        "id": "AwGSegYimOOc",
        "outputId": "e383067f-bc56-4a72-db79-09cf9b693d4b"
      },
      "execution_count": null,
      "outputs": [
        {
          "output_type": "stream",
          "name": "stdout",
          "text": [
            "{\"cat\": \"貓咪\", \"dog\": \"狗狗\"}\n"
          ]
        }
      ]
    },
    {
      "cell_type": "code",
      "source": [
        "import json"
      ],
      "metadata": {
        "id": "kirKYZqbmQ1C"
      },
      "execution_count": null,
      "outputs": []
    },
    {
      "cell_type": "code",
      "source": [
        "f = json.loads(e)"
      ],
      "metadata": {
        "id": "y5zVeVgem56m"
      },
      "execution_count": null,
      "outputs": []
    },
    {
      "cell_type": "code",
      "source": [
        "type(f)"
      ],
      "metadata": {
        "colab": {
          "base_uri": "https://localhost:8080/"
        },
        "id": "c9tnaTaXm996",
        "outputId": "c0e25469-f1ec-4db9-c5c2-d32859757699"
      },
      "execution_count": null,
      "outputs": [
        {
          "output_type": "execute_result",
          "data": {
            "text/plain": [
              "dict"
            ]
          },
          "metadata": {},
          "execution_count": 94
        }
      ]
    },
    {
      "cell_type": "code",
      "source": [
        "f"
      ],
      "metadata": {
        "colab": {
          "base_uri": "https://localhost:8080/"
        },
        "id": "U3lUPdKtnQlf",
        "outputId": "1557141b-4e6f-48b9-d700-b586de521787"
      },
      "execution_count": null,
      "outputs": [
        {
          "output_type": "execute_result",
          "data": {
            "text/plain": [
              "{'cat': '貓咪', 'dog': '狗狗'}"
            ]
          },
          "metadata": {},
          "execution_count": 95
        }
      ]
    },
    {
      "cell_type": "markdown",
      "source": [
        "#使用萌典api"
      ],
      "metadata": {
        "id": "Fh6YxTfNoaul"
      }
    },
    {
      "cell_type": "code",
      "source": [
        "url=\" https://www.moedict.tw/uni/\""
      ],
      "metadata": {
        "id": "piwpZwrcolDW"
      },
      "execution_count": null,
      "outputs": []
    },
    {
      "cell_type": "code",
      "source": [
        "q=\"教室\""
      ],
      "metadata": {
        "id": "Shf2SvxIovat"
      },
      "execution_count": null,
      "outputs": []
    },
    {
      "cell_type": "code",
      "source": [
        "url + q"
      ],
      "metadata": {
        "colab": {
          "base_uri": "https://localhost:8080/",
          "height": 36
        },
        "id": "DayXxNGAo4mx",
        "outputId": "21a47498-058f-4d1c-93af-94ea92b696dc"
      },
      "execution_count": null,
      "outputs": [
        {
          "output_type": "execute_result",
          "data": {
            "text/plain": [
              "' https://www.moedict.tw/uni/教室'"
            ],
            "application/vnd.google.colaboratory.intrinsic+json": {
              "type": "string"
            }
          },
          "metadata": {},
          "execution_count": 125
        }
      ]
    },
    {
      "cell_type": "code",
      "source": [
        "r = requests.get(url+q)"
      ],
      "metadata": {
        "id": "3xaM3jmepLly"
      },
      "execution_count": null,
      "outputs": []
    },
    {
      "cell_type": "code",
      "source": [
        "print(r.text)"
      ],
      "metadata": {
        "colab": {
          "base_uri": "https://localhost:8080/"
        },
        "id": "RsnE3aEEpKhj",
        "outputId": "48ac914f-5dde-47f0-ea00-ee3a93204c9c"
      },
      "execution_count": null,
      "outputs": [
        {
          "output_type": "stream",
          "name": "stdout",
          "text": [
            "\t{\n",
            "\t\t\"heteronyms\": [\n",
            "\t\t\t{\n",
            "\t\t\t\t\"bopomofo\": \"ㄐㄧㄠˋ ㄕˋ\",\n",
            "\t\t\t\t\"bopomofo2\": \"jiàu shr̀\",\n",
            "\t\t\t\t\"definitions\": [\n",
            "\t\t\t\t\t{\n",
            "\t\t\t\t\t\t\"def\": \"學校裡進行教學活動的房間。\",\n",
            "\t\t\t\t\t\t\"example\": [\n",
            "\t\t\t\t\t\t\t\"如：「實驗教室」、「音樂教室」。\"\n",
            "\t\t\t\t\t\t],\n",
            "\t\t\t\t\t\t\"synonyms\": \"課堂,講堂\"\n",
            "\t\t\t\t\t}\n",
            "\t\t\t\t],\n",
            "\t\t\t\t\"pinyin\": \"jiào shì\"\n",
            "\t\t\t}\n",
            "\t\t],\n",
            "\t\t\"title\": \"教室\"\n",
            "\t}\n"
          ]
        }
      ]
    },
    {
      "cell_type": "code",
      "source": [
        "data = json.loads(r.text)"
      ],
      "metadata": {
        "id": "pHSETBZapbNt"
      },
      "execution_count": null,
      "outputs": []
    },
    {
      "cell_type": "code",
      "source": [
        "type(data)"
      ],
      "metadata": {
        "colab": {
          "base_uri": "https://localhost:8080/"
        },
        "id": "cFsEOfWip8o9",
        "outputId": "9c71f60f-8787-4287-c649-1885db8e9da7"
      },
      "execution_count": null,
      "outputs": [
        {
          "output_type": "execute_result",
          "data": {
            "text/plain": [
              "dict"
            ]
          },
          "metadata": {},
          "execution_count": 142
        }
      ]
    },
    {
      "cell_type": "code",
      "source": [
        "data"
      ],
      "metadata": {
        "colab": {
          "base_uri": "https://localhost:8080/"
        },
        "id": "LoSC3exMqQoF",
        "outputId": "35082c22-dacb-43e1-e64e-32c9eb91567e"
      },
      "execution_count": null,
      "outputs": [
        {
          "output_type": "execute_result",
          "data": {
            "text/plain": [
              "{'heteronyms': [{'bopomofo': 'ㄐㄧㄠˋ ㄕˋ',\n",
              "   'bopomofo2': 'jiàu shr̀',\n",
              "   'definitions': [{'def': '學校裡進行教學活動的房間。',\n",
              "     'example': ['如：「實驗教室」、「音樂教室」。'],\n",
              "     'synonyms': '課堂,講堂'}],\n",
              "   'pinyin': 'jiào shì'}],\n",
              " 'title': '教室'}"
            ]
          },
          "metadata": {},
          "execution_count": 143
        }
      ]
    },
    {
      "cell_type": "code",
      "source": [
        "data.keys()"
      ],
      "metadata": {
        "colab": {
          "base_uri": "https://localhost:8080/"
        },
        "id": "JF420VpoqTtA",
        "outputId": "64492e2b-5d8c-4b99-a862-45cd26a6eea5"
      },
      "execution_count": null,
      "outputs": [
        {
          "output_type": "execute_result",
          "data": {
            "text/plain": [
              "dict_keys(['heteronyms', 'title'])"
            ]
          },
          "metadata": {},
          "execution_count": 145
        }
      ]
    },
    {
      "cell_type": "code",
      "source": [
        "data['heteronyms']"
      ],
      "metadata": {
        "colab": {
          "base_uri": "https://localhost:8080/"
        },
        "id": "rtmQu7C7qY0z",
        "outputId": "1ff707e5-d73e-4259-9a57-3226becd6bad"
      },
      "execution_count": null,
      "outputs": [
        {
          "output_type": "execute_result",
          "data": {
            "text/plain": [
              "[{'bopomofo': 'ㄐㄧㄠˋ ㄕˋ',\n",
              "  'bopomofo2': 'jiàu shr̀',\n",
              "  'definitions': [{'def': '學校裡進行教學活動的房間。',\n",
              "    'example': ['如：「實驗教室」、「音樂教室」。'],\n",
              "    'synonyms': '課堂,講堂'}],\n",
              "  'pinyin': 'jiào shì'}]"
            ]
          },
          "metadata": {},
          "execution_count": 146
        }
      ]
    },
    {
      "cell_type": "code",
      "source": [
        "data['heteronyms'][0]"
      ],
      "metadata": {
        "colab": {
          "base_uri": "https://localhost:8080/"
        },
        "id": "ftoZkceGqhDv",
        "outputId": "93f8b56a-8a51-419e-aac4-f6aa7c32a8b6"
      },
      "execution_count": null,
      "outputs": [
        {
          "output_type": "execute_result",
          "data": {
            "text/plain": [
              "{'bopomofo': 'ㄐㄧㄠˋ ㄕˋ',\n",
              " 'bopomofo2': 'jiàu shr̀',\n",
              " 'definitions': [{'def': '學校裡進行教學活動的房間。',\n",
              "   'example': ['如：「實驗教室」、「音樂教室」。'],\n",
              "   'synonyms': '課堂,講堂'}],\n",
              " 'pinyin': 'jiào shì'}"
            ]
          },
          "metadata": {},
          "execution_count": 147
        }
      ]
    },
    {
      "cell_type": "code",
      "source": [
        "#list dict之間的應用\n",
        "data['heteronyms'][0]['definitions'][0]['def']"
      ],
      "metadata": {
        "colab": {
          "base_uri": "https://localhost:8080/",
          "height": 36
        },
        "id": "uT02bTv1qqMe",
        "outputId": "44e01d34-f4b7-4acc-b691-d56617757d03"
      },
      "execution_count": null,
      "outputs": [
        {
          "output_type": "execute_result",
          "data": {
            "text/plain": [
              "'學校裡進行教學活動的房間。'"
            ],
            "application/vnd.google.colaboratory.intrinsic+json": {
              "type": "string"
            }
          },
          "metadata": {},
          "execution_count": 152
        }
      ]
    },
    {
      "cell_type": "code",
      "source": [
        "#requests是請求出來，要加data=才能叫出來\n",
        "data=requests.get(url+\"森林\").json()"
      ],
      "metadata": {
        "id": "ZZQmQAfRrOWA"
      },
      "execution_count": null,
      "outputs": []
    },
    {
      "cell_type": "code",
      "source": [
        "data['heteronyms'][0]['definitions'][0]['def']"
      ],
      "metadata": {
        "colab": {
          "base_uri": "https://localhost:8080/",
          "height": 36
        },
        "id": "22uPY7Ngr2Jy",
        "outputId": "28758533-ec27-410d-bbf0-ce39dcff5911"
      },
      "execution_count": null,
      "outputs": [
        {
          "output_type": "execute_result",
          "data": {
            "text/plain": [
              "'樹木密生的寬廣地區。'"
            ],
            "application/vnd.google.colaboratory.intrinsic+json": {
              "type": "string"
            }
          },
          "metadata": {},
          "execution_count": 172
        }
      ]
    },
    {
      "cell_type": "code",
      "source": [
        "def lookup(word):\n",
        "  data = requests.get(url+word).json()\n",
        "  return data['heteronyms'][0]['definitions'][0]['def']"
      ],
      "metadata": {
        "id": "oa6pWppWr3Ir"
      },
      "execution_count": null,
      "outputs": []
    },
    {
      "cell_type": "code",
      "source": [
        "lookup(\"車\")"
      ],
      "metadata": {
        "colab": {
          "base_uri": "https://localhost:8080/",
          "height": 36
        },
        "id": "tkRJCghxsUPR",
        "outputId": "64e13554-a4ca-4dad-c45b-801edc77478b"
      },
      "execution_count": null,
      "outputs": [
        {
          "output_type": "execute_result",
          "data": {
            "text/plain": [
              "'陸地上靠輪子轉動而運行的交通工具。如：「汽車」、「火車」。通稱為「車子」。'"
            ],
            "application/vnd.google.colaboratory.intrinsic+json": {
              "type": "string"
            }
          },
          "metadata": {},
          "execution_count": 165
        }
      ]
    },
    {
      "cell_type": "code",
      "source": [
        "gradio.Interface(lookup, \"text\",\"text\", title=\"國語辭典\").launch(share=True)"
      ],
      "metadata": {
        "colab": {
          "base_uri": "https://localhost:8080/",
          "height": 643
        },
        "id": "qiVhscKptOfG",
        "outputId": "b555cf99-a47f-4df0-a0ed-ef07d2f02899"
      },
      "execution_count": null,
      "outputs": [
        {
          "output_type": "stream",
          "name": "stdout",
          "text": [
            "Colab notebook detected. To show errors in colab notebook, set `debug=True` in `launch()`\n",
            "Running on public URL: https://42847.gradio.app\n",
            "\n",
            "This share link expires in 72 hours. For free permanent hosting, check out Spaces (https://huggingface.co/spaces)\n"
          ]
        },
        {
          "output_type": "display_data",
          "data": {
            "text/plain": [
              "<IPython.core.display.HTML object>"
            ],
            "text/html": [
              "<div><iframe src=\"https://42847.gradio.app\" width=\"900\" height=\"500\" allow=\"autoplay; camera; microphone;\" frameborder=\"0\" allowfullscreen></iframe></div>"
            ]
          },
          "metadata": {}
        },
        {
          "output_type": "execute_result",
          "data": {
            "text/plain": [
              "(<gradio.routes.App at 0x7f6fb474a310>,\n",
              " 'http://127.0.0.1:7868/',\n",
              " 'https://42847.gradio.app')"
            ]
          },
          "metadata": {},
          "execution_count": 175
        }
      ]
    },
    {
      "cell_type": "markdown",
      "source": [
        "##作業-漢英字典\n",
        " https://www.moedict.tw/a/%E8%90%8C.json"
      ],
      "metadata": {
        "id": "DhJ032e6wQGQ"
      }
    },
    {
      "cell_type": "code",
      "source": [
        "url =\" https://www.moedict.tw/a/\""
      ],
      "metadata": {
        "id": "QCkDEtcjwYW3"
      },
      "execution_count": null,
      "outputs": []
    },
    {
      "cell_type": "code",
      "source": [
        "q = \"學校\""
      ],
      "metadata": {
        "id": "6hYbxUjowdeh"
      },
      "execution_count": null,
      "outputs": []
    },
    {
      "cell_type": "code",
      "source": [
        "data = requests.get(url+q+\".json\").json()"
      ],
      "metadata": {
        "id": "l6JuJ9JiwkP3"
      },
      "execution_count": null,
      "outputs": []
    },
    {
      "cell_type": "code",
      "source": [
        "data"
      ],
      "metadata": {
        "colab": {
          "base_uri": "https://localhost:8080/"
        },
        "id": "JdYF_ZpHw0rV",
        "outputId": "aa44b04a-425a-4e85-d7c7-3fbc08eb5c2f"
      },
      "execution_count": null,
      "outputs": [
        {
          "output_type": "execute_result",
          "data": {
            "text/plain": [
              "{'Deutsch': 'Schule  (S)',\n",
              " 'English': 'school',\n",
              " 'francais': 'école',\n",
              " 'h': [{'=': '415000029',\n",
              "   'b': 'ㄒㄩㄝˊ\\u3000ㄒㄧㄠˋ',\n",
              "   'd': [{'f': '`講學~`研習~`的~`教育~`機構~。',\n",
              "     'q': ['《`詩經~．`鄭~`風~．`子衿~．`序~》：「`子衿~，`刺~`學校~`廢~`也~。`亂世~`則~`學校~`不脩~`焉~。」',\n",
              "      '《`儒林外史~．`第~`三~`回~》：「`你~`若~`同~`他~`拱手作揖~，`平起平坐~，`這~`就是~`壞了~`學校~`規矩~，`連~`我~`臉上~`都~`無~`光~`了~。」'],\n",
              "     's': '`黌舍~,`學宮~,`學塾~,`書院~,`私塾~'}],\n",
              "   'p': 'xué xiào'}],\n",
              " 't': '`學~`校~',\n",
              " 'translation': {'Deutsch': ['Schule  (S)'],\n",
              "  'English': ['school', 'CL:`所~[suo3]'],\n",
              "  'francais': ['école']}}"
            ]
          },
          "metadata": {},
          "execution_count": 184
        }
      ]
    },
    {
      "cell_type": "code",
      "source": [
        "data.keys()"
      ],
      "metadata": {
        "colab": {
          "base_uri": "https://localhost:8080/"
        },
        "id": "Yn5BRsYFw46o",
        "outputId": "417c622c-ec79-48d9-b4d9-73bed1273333"
      },
      "execution_count": null,
      "outputs": [
        {
          "output_type": "execute_result",
          "data": {
            "text/plain": [
              "dict_keys(['Deutsch', 'English', 'francais', 'h', 't', 'translation'])"
            ]
          },
          "metadata": {},
          "execution_count": 185
        }
      ]
    },
    {
      "cell_type": "code",
      "source": [
        "data['English']"
      ],
      "metadata": {
        "colab": {
          "base_uri": "https://localhost:8080/",
          "height": 36
        },
        "id": "28kt6psNxCvY",
        "outputId": "27a9126e-f2a5-430f-b0fd-9801023107f3"
      },
      "execution_count": null,
      "outputs": [
        {
          "output_type": "execute_result",
          "data": {
            "text/plain": [
              "'school'"
            ],
            "application/vnd.google.colaboratory.intrinsic+json": {
              "type": "string"
            }
          },
          "metadata": {},
          "execution_count": 186
        }
      ]
    },
    {
      "cell_type": "code",
      "source": [
        "def lookup(word):\n",
        "  data = requests.get(url+word).json()\n",
        "  return data['English'][0]"
      ],
      "metadata": {
        "id": "IBpiEnm8x8jb"
      },
      "execution_count": null,
      "outputs": []
    },
    {
      "cell_type": "code",
      "source": [
        "lookup(\"火車\")"
      ],
      "metadata": {
        "colab": {
          "base_uri": "https://localhost:8080/",
          "height": 295
        },
        "id": "9yVMHoq9yOeP",
        "outputId": "4a471001-931d-48e1-9afa-3f6eca78d80a"
      },
      "execution_count": null,
      "outputs": [
        {
          "output_type": "error",
          "ename": "JSONDecodeError",
          "evalue": "ignored",
          "traceback": [
            "\u001b[0;31m---------------------------------------------------------------------------\u001b[0m",
            "\u001b[0;31mJSONDecodeError\u001b[0m                           Traceback (most recent call last)",
            "\u001b[0;32m<ipython-input-191-51d3b0034fae>\u001b[0m in \u001b[0;36m<module>\u001b[0;34m()\u001b[0m\n\u001b[0;32m----> 1\u001b[0;31m \u001b[0mlookup\u001b[0m\u001b[0;34m(\u001b[0m\u001b[0;34m\"火車\"\u001b[0m\u001b[0;34m)\u001b[0m\u001b[0;34m\u001b[0m\u001b[0;34m\u001b[0m\u001b[0m\n\u001b[0m",
            "\u001b[0;32m<ipython-input-190-45e19aad439a>\u001b[0m in \u001b[0;36mlookup\u001b[0;34m(word)\u001b[0m\n\u001b[1;32m      1\u001b[0m \u001b[0;32mdef\u001b[0m \u001b[0mlookup\u001b[0m\u001b[0;34m(\u001b[0m\u001b[0mword\u001b[0m\u001b[0;34m)\u001b[0m\u001b[0;34m:\u001b[0m\u001b[0;34m\u001b[0m\u001b[0;34m\u001b[0m\u001b[0m\n\u001b[0;32m----> 2\u001b[0;31m   \u001b[0mdata\u001b[0m \u001b[0;34m=\u001b[0m \u001b[0mrequests\u001b[0m\u001b[0;34m.\u001b[0m\u001b[0mget\u001b[0m\u001b[0;34m(\u001b[0m\u001b[0murl\u001b[0m\u001b[0;34m+\u001b[0m\u001b[0mword\u001b[0m\u001b[0;34m)\u001b[0m\u001b[0;34m.\u001b[0m\u001b[0mjson\u001b[0m\u001b[0;34m(\u001b[0m\u001b[0;34m)\u001b[0m\u001b[0;34m\u001b[0m\u001b[0;34m\u001b[0m\u001b[0m\n\u001b[0m\u001b[1;32m      3\u001b[0m   \u001b[0;32mreturn\u001b[0m \u001b[0mdata\u001b[0m\u001b[0;34m[\u001b[0m\u001b[0;34m'English'\u001b[0m\u001b[0;34m]\u001b[0m\u001b[0;34m[\u001b[0m\u001b[0;36m0\u001b[0m\u001b[0;34m]\u001b[0m\u001b[0;34m\u001b[0m\u001b[0;34m\u001b[0m\u001b[0m\n",
            "\u001b[0;32m/usr/local/lib/python3.7/dist-packages/requests/models.py\u001b[0m in \u001b[0;36mjson\u001b[0;34m(self, **kwargs)\u001b[0m\n\u001b[1;32m    896\u001b[0m                     \u001b[0;31m# used.\u001b[0m\u001b[0;34m\u001b[0m\u001b[0;34m\u001b[0m\u001b[0;34m\u001b[0m\u001b[0m\n\u001b[1;32m    897\u001b[0m                     \u001b[0;32mpass\u001b[0m\u001b[0;34m\u001b[0m\u001b[0;34m\u001b[0m\u001b[0m\n\u001b[0;32m--> 898\u001b[0;31m         \u001b[0;32mreturn\u001b[0m \u001b[0mcomplexjson\u001b[0m\u001b[0;34m.\u001b[0m\u001b[0mloads\u001b[0m\u001b[0;34m(\u001b[0m\u001b[0mself\u001b[0m\u001b[0;34m.\u001b[0m\u001b[0mtext\u001b[0m\u001b[0;34m,\u001b[0m \u001b[0;34m**\u001b[0m\u001b[0mkwargs\u001b[0m\u001b[0;34m)\u001b[0m\u001b[0;34m\u001b[0m\u001b[0;34m\u001b[0m\u001b[0m\n\u001b[0m\u001b[1;32m    899\u001b[0m \u001b[0;34m\u001b[0m\u001b[0m\n\u001b[1;32m    900\u001b[0m     \u001b[0;34m@\u001b[0m\u001b[0mproperty\u001b[0m\u001b[0;34m\u001b[0m\u001b[0;34m\u001b[0m\u001b[0m\n",
            "\u001b[0;32m/usr/lib/python3.7/json/__init__.py\u001b[0m in \u001b[0;36mloads\u001b[0;34m(s, encoding, cls, object_hook, parse_float, parse_int, parse_constant, object_pairs_hook, **kw)\u001b[0m\n\u001b[1;32m    346\u001b[0m             \u001b[0mparse_int\u001b[0m \u001b[0;32mis\u001b[0m \u001b[0;32mNone\u001b[0m \u001b[0;32mand\u001b[0m \u001b[0mparse_float\u001b[0m \u001b[0;32mis\u001b[0m \u001b[0;32mNone\u001b[0m \u001b[0;32mand\u001b[0m\u001b[0;34m\u001b[0m\u001b[0;34m\u001b[0m\u001b[0m\n\u001b[1;32m    347\u001b[0m             parse_constant is None and object_pairs_hook is None and not kw):\n\u001b[0;32m--> 348\u001b[0;31m         \u001b[0;32mreturn\u001b[0m \u001b[0m_default_decoder\u001b[0m\u001b[0;34m.\u001b[0m\u001b[0mdecode\u001b[0m\u001b[0;34m(\u001b[0m\u001b[0ms\u001b[0m\u001b[0;34m)\u001b[0m\u001b[0;34m\u001b[0m\u001b[0;34m\u001b[0m\u001b[0m\n\u001b[0m\u001b[1;32m    349\u001b[0m     \u001b[0;32mif\u001b[0m \u001b[0mcls\u001b[0m \u001b[0;32mis\u001b[0m \u001b[0;32mNone\u001b[0m\u001b[0;34m:\u001b[0m\u001b[0;34m\u001b[0m\u001b[0;34m\u001b[0m\u001b[0m\n\u001b[1;32m    350\u001b[0m         \u001b[0mcls\u001b[0m \u001b[0;34m=\u001b[0m \u001b[0mJSONDecoder\u001b[0m\u001b[0;34m\u001b[0m\u001b[0;34m\u001b[0m\u001b[0m\n",
            "\u001b[0;32m/usr/lib/python3.7/json/decoder.py\u001b[0m in \u001b[0;36mdecode\u001b[0;34m(self, s, _w)\u001b[0m\n\u001b[1;32m    335\u001b[0m \u001b[0;34m\u001b[0m\u001b[0m\n\u001b[1;32m    336\u001b[0m         \"\"\"\n\u001b[0;32m--> 337\u001b[0;31m         \u001b[0mobj\u001b[0m\u001b[0;34m,\u001b[0m \u001b[0mend\u001b[0m \u001b[0;34m=\u001b[0m \u001b[0mself\u001b[0m\u001b[0;34m.\u001b[0m\u001b[0mraw_decode\u001b[0m\u001b[0;34m(\u001b[0m\u001b[0ms\u001b[0m\u001b[0;34m,\u001b[0m \u001b[0midx\u001b[0m\u001b[0;34m=\u001b[0m\u001b[0m_w\u001b[0m\u001b[0;34m(\u001b[0m\u001b[0ms\u001b[0m\u001b[0;34m,\u001b[0m \u001b[0;36m0\u001b[0m\u001b[0;34m)\u001b[0m\u001b[0;34m.\u001b[0m\u001b[0mend\u001b[0m\u001b[0;34m(\u001b[0m\u001b[0;34m)\u001b[0m\u001b[0;34m)\u001b[0m\u001b[0;34m\u001b[0m\u001b[0;34m\u001b[0m\u001b[0m\n\u001b[0m\u001b[1;32m    338\u001b[0m         \u001b[0mend\u001b[0m \u001b[0;34m=\u001b[0m \u001b[0m_w\u001b[0m\u001b[0;34m(\u001b[0m\u001b[0ms\u001b[0m\u001b[0;34m,\u001b[0m \u001b[0mend\u001b[0m\u001b[0;34m)\u001b[0m\u001b[0;34m.\u001b[0m\u001b[0mend\u001b[0m\u001b[0;34m(\u001b[0m\u001b[0;34m)\u001b[0m\u001b[0;34m\u001b[0m\u001b[0;34m\u001b[0m\u001b[0m\n\u001b[1;32m    339\u001b[0m         \u001b[0;32mif\u001b[0m \u001b[0mend\u001b[0m \u001b[0;34m!=\u001b[0m \u001b[0mlen\u001b[0m\u001b[0;34m(\u001b[0m\u001b[0ms\u001b[0m\u001b[0;34m)\u001b[0m\u001b[0;34m:\u001b[0m\u001b[0;34m\u001b[0m\u001b[0;34m\u001b[0m\u001b[0m\n",
            "\u001b[0;32m/usr/lib/python3.7/json/decoder.py\u001b[0m in \u001b[0;36mraw_decode\u001b[0;34m(self, s, idx)\u001b[0m\n\u001b[1;32m    353\u001b[0m             \u001b[0mobj\u001b[0m\u001b[0;34m,\u001b[0m \u001b[0mend\u001b[0m \u001b[0;34m=\u001b[0m \u001b[0mself\u001b[0m\u001b[0;34m.\u001b[0m\u001b[0mscan_once\u001b[0m\u001b[0;34m(\u001b[0m\u001b[0ms\u001b[0m\u001b[0;34m,\u001b[0m \u001b[0midx\u001b[0m\u001b[0;34m)\u001b[0m\u001b[0;34m\u001b[0m\u001b[0;34m\u001b[0m\u001b[0m\n\u001b[1;32m    354\u001b[0m         \u001b[0;32mexcept\u001b[0m \u001b[0mStopIteration\u001b[0m \u001b[0;32mas\u001b[0m \u001b[0merr\u001b[0m\u001b[0;34m:\u001b[0m\u001b[0;34m\u001b[0m\u001b[0;34m\u001b[0m\u001b[0m\n\u001b[0;32m--> 355\u001b[0;31m             \u001b[0;32mraise\u001b[0m \u001b[0mJSONDecodeError\u001b[0m\u001b[0;34m(\u001b[0m\u001b[0;34m\"Expecting value\"\u001b[0m\u001b[0;34m,\u001b[0m \u001b[0ms\u001b[0m\u001b[0;34m,\u001b[0m \u001b[0merr\u001b[0m\u001b[0;34m.\u001b[0m\u001b[0mvalue\u001b[0m\u001b[0;34m)\u001b[0m \u001b[0;32mfrom\u001b[0m \u001b[0;32mNone\u001b[0m\u001b[0;34m\u001b[0m\u001b[0;34m\u001b[0m\u001b[0m\n\u001b[0m\u001b[1;32m    356\u001b[0m         \u001b[0;32mreturn\u001b[0m \u001b[0mobj\u001b[0m\u001b[0;34m,\u001b[0m \u001b[0mend\u001b[0m\u001b[0;34m\u001b[0m\u001b[0;34m\u001b[0m\u001b[0m\n",
            "\u001b[0;31mJSONDecodeError\u001b[0m: Expecting value: line 1 column 1 (char 0)"
          ]
        }
      ]
    },
    {
      "cell_type": "markdown",
      "source": [
        "##分析台北市ubike站點"
      ],
      "metadata": {
        "id": "_Y4dNhy1y_Za"
      }
    },
    {
      "cell_type": "code",
      "source": [
        "url = \"https://tcgbusfs.blob.core.windows.net/dotapp/youbike/v2/youbike_immediate.json\""
      ],
      "metadata": {
        "id": "Sq-O2RHbzFrS"
      },
      "execution_count": null,
      "outputs": []
    },
    {
      "cell_type": "code",
      "source": [
        "data = requests.get(url).json()"
      ],
      "metadata": {
        "id": "jd6m3d7ZztM1"
      },
      "execution_count": null,
      "outputs": []
    },
    {
      "cell_type": "code",
      "source": [
        "type(data)"
      ],
      "metadata": {
        "colab": {
          "base_uri": "https://localhost:8080/"
        },
        "id": "tvcerckcz28H",
        "outputId": "f60c1eb0-e404-43ec-8ad5-def64a48ce15"
      },
      "execution_count": null,
      "outputs": [
        {
          "output_type": "execute_result",
          "data": {
            "text/plain": [
              "list"
            ]
          },
          "metadata": {},
          "execution_count": 197
        }
      ]
    },
    {
      "cell_type": "code",
      "source": [
        "data[0]"
      ],
      "metadata": {
        "colab": {
          "base_uri": "https://localhost:8080/"
        },
        "id": "VJPqxrAO0ZMU",
        "outputId": "babf4eea-2de9-440c-f4f0-4f15a7ad99cb"
      },
      "execution_count": null,
      "outputs": [
        {
          "output_type": "execute_result",
          "data": {
            "text/plain": [
              "{'act': '1',\n",
              " 'ar': '復興南路二段235號前',\n",
              " 'aren': 'No.235， Sec. 2， Fuxing S. Rd.',\n",
              " 'bemp': 28,\n",
              " 'infoDate': '2022-07-09',\n",
              " 'infoTime': '2022-07-09 15:15:38',\n",
              " 'lat': 25.02605,\n",
              " 'lng': 121.5436,\n",
              " 'mday': '2022-07-09 15:15:38',\n",
              " 'sarea': '大安區',\n",
              " 'sareaen': 'Daan Dist.',\n",
              " 'sbi': 1,\n",
              " 'sna': 'YouBike2.0_捷運科技大樓站',\n",
              " 'snaen': 'YouBike2.0_MRT Technology Bldg. Sta.',\n",
              " 'sno': '500101001',\n",
              " 'srcUpdateTime': '2022-07-09 15:16:13',\n",
              " 'tot': 29,\n",
              " 'updateTime': '2022-07-09 15:16:51'}"
            ]
          },
          "metadata": {},
          "execution_count": 207
        }
      ]
    },
    {
      "cell_type": "markdown",
      "source": [
        "#Beautifulsoup使用簡介"
      ],
      "metadata": {
        "id": "xbu2R-jX1JXG"
      }
    },
    {
      "cell_type": "code",
      "source": [
        "page = \"\"\"<!DOCTYPE html>\n",
        "<html>\n",
        "<head>\n",
        "    <title>HTML範例</title>\n",
        "</head>\n",
        "<body>\n",
        "\n",
        "<h1>哈囉！HTML！</h1>\n",
        "\n",
        "<img src=\"ninja.jpg\" />\n",
        "\n",
        "</body>\n",
        "</html>\"\"\"\n",
        "#字串三個雙引號"
      ],
      "metadata": {
        "id": "XClQISAWzKyx"
      },
      "execution_count": null,
      "outputs": []
    },
    {
      "cell_type": "code",
      "source": [
        "from bs4 import BeautifulSoup"
      ],
      "metadata": {
        "id": "x08i2T8C1kJE"
      },
      "execution_count": null,
      "outputs": []
    },
    {
      "cell_type": "code",
      "source": [
        "soup = BeautifulSoup(page)"
      ],
      "metadata": {
        "id": "7xZzuiNX1u_r"
      },
      "execution_count": null,
      "outputs": []
    },
    {
      "cell_type": "code",
      "source": [
        "soup.title"
      ],
      "metadata": {
        "colab": {
          "base_uri": "https://localhost:8080/"
        },
        "id": "GfW7YzBB16eG",
        "outputId": "23f54b67-5ac2-4e65-8283-cf4bc773d00d"
      },
      "execution_count": null,
      "outputs": [
        {
          "output_type": "execute_result",
          "data": {
            "text/plain": [
              "<title>HTML範例</title>"
            ]
          },
          "metadata": {},
          "execution_count": 213
        }
      ]
    },
    {
      "cell_type": "code",
      "source": [
        "soup.title.text"
      ],
      "metadata": {
        "colab": {
          "base_uri": "https://localhost:8080/",
          "height": 36
        },
        "id": "WV8PRL1o1-ME",
        "outputId": "c16dc3b6-a2a6-4a4c-fc89-50e1bbf1e2bb"
      },
      "execution_count": null,
      "outputs": [
        {
          "output_type": "execute_result",
          "data": {
            "text/plain": [
              "'HTML範例'"
            ],
            "application/vnd.google.colaboratory.intrinsic+json": {
              "type": "string"
            }
          },
          "metadata": {},
          "execution_count": 215
        }
      ]
    },
    {
      "cell_type": "code",
      "source": [
        "soup.h1.text"
      ],
      "metadata": {
        "colab": {
          "base_uri": "https://localhost:8080/",
          "height": 36
        },
        "id": "Ba-bHeZQ2FbE",
        "outputId": "9b549e08-c061-468b-8543-da48c3fcd1d2"
      },
      "execution_count": null,
      "outputs": [
        {
          "output_type": "execute_result",
          "data": {
            "text/plain": [
              "'哈囉！HTML！'"
            ],
            "application/vnd.google.colaboratory.intrinsic+json": {
              "type": "string"
            }
          },
          "metadata": {},
          "execution_count": 217
        }
      ]
    },
    {
      "cell_type": "markdown",
      "source": [
        "### 範例二\n",
        "* requests-->beautiful\n",
        "* beautiful 可以直接"
      ],
      "metadata": {
        "id": "zT-6k9MD3irx"
      }
    },
    {
      "cell_type": "code",
      "source": [
        "page = \"\"\"<!DOCTYPE html>\n",
        "<html>\n",
        "<head>\n",
        "    <title>這是範例一</title>\n",
        "</head>\n",
        "<body>\n",
        "\n",
        "<h1>哈囉！HTML！</h1>\n",
        "\n",
        "<div class=\"class1\">\n",
        "    <p>這是第一個p標籤內容！</p>\n",
        "    <p>這是第二個p標籤內容！</p>\n",
        "</div>\n",
        "\n",
        "<div class=\"class2\">\n",
        "    <p>這是第三個p標籤內容！</p>\n",
        "    <p>這是第四個p標籤內容！</p>\n",
        "</div>\n",
        "</body>\n",
        "</html>\"\"\""
      ],
      "metadata": {
        "id": "k6j7lRUj2CqF"
      },
      "execution_count": null,
      "outputs": []
    },
    {
      "cell_type": "code",
      "source": [
        "soup = BeautifulSoup(page)"
      ],
      "metadata": {
        "id": "Ms_5yBnH3pYB"
      },
      "execution_count": null,
      "outputs": []
    },
    {
      "cell_type": "code",
      "source": [
        "soup.select(\"div.class1\")"
      ],
      "metadata": {
        "colab": {
          "base_uri": "https://localhost:8080/"
        },
        "id": "LEDOhpTF4zop",
        "outputId": "517769af-40d3-4906-f050-4d3313e009cb"
      },
      "execution_count": null,
      "outputs": [
        {
          "output_type": "execute_result",
          "data": {
            "text/plain": [
              "[<div class=\"class1\">\n",
              " <p>這是第一個p標籤內容！</p>\n",
              " <p>這是第二個p標籤內容！</p>\n",
              " </div>]"
            ]
          },
          "metadata": {},
          "execution_count": 248
        }
      ]
    },
    {
      "cell_type": "markdown",
      "source": [
        "##momo資料抓取\n"
      ],
      "metadata": {
        "id": "F1Q9kven5yTs"
      }
    },
    {
      "cell_type": "code",
      "source": [
        "url = \"https://www.momoshop.com.tw/category/LgrpCategory.jsp?l_code=2919100000&mdiv=1099600000-bt_0_996_11-&ctype=B\""
      ],
      "metadata": {
        "id": "6PZJWYcb52rN"
      },
      "execution_count": null,
      "outputs": []
    },
    {
      "cell_type": "code",
      "source": [
        "headers = {\"user-agent\":\"Mozilla/5.0 (Windows NT 6.1; WOW64) AppleWebKit/537.36 (KHTML, like Gecko) Chrome/47.0.2526.111 Safari/537.36\"}"
      ],
      "metadata": {
        "id": "5LbBFO2A6HT0"
      },
      "execution_count": null,
      "outputs": []
    },
    {
      "cell_type": "code",
      "source": [
        "r = requests.get(url,headers=headers)"
      ],
      "metadata": {
        "id": "_HWiM8966pRM"
      },
      "execution_count": null,
      "outputs": []
    },
    {
      "cell_type": "code",
      "source": [
        "soup = BeautifulSoup(r.text)"
      ],
      "metadata": {
        "id": "BFJ15fQe5-Nb"
      },
      "execution_count": null,
      "outputs": []
    },
    {
      "cell_type": "code",
      "source": [
        "#soup.select(\"#bt_2_216_01 li\")"
      ],
      "metadata": {
        "id": "LPUF8mQh7Dzt"
      },
      "execution_count": null,
      "outputs": []
    },
    {
      "cell_type": "code",
      "source": [
        "products = soup.select(\".btclass.bt770class li a\")"
      ],
      "metadata": {
        "id": "ZnP00e-t6olz"
      },
      "execution_count": null,
      "outputs": []
    },
    {
      "cell_type": "code",
      "source": [
        "products[1]"
      ],
      "metadata": {
        "colab": {
          "base_uri": "https://localhost:8080/"
        },
        "id": "pBXN-6Sc7-sk",
        "outputId": "513c65e6-f901-4f7e-f8dc-a0cf89cd01fa"
      },
      "execution_count": null,
      "outputs": [
        {
          "output_type": "execute_result",
          "data": {
            "text/plain": [
              "<a href=\"https://www.momoshop.com.tw/edm/cmmedm.jsp?npn=1vEHimBzrGRK&amp;n=1&amp;mdiv=2919100000-bt_2_090_01-bt_2_090_01_e1&amp;ctype=B\" id=\"bt_2_090_01_e1\" title=\"momo\"> <img alt=\"momo\" height=\"80\" id=\"bt_2_090_01_e2\" lazy=\"2\" org=\"//img3.momoshop.com.tw/ecm/img/online/29/191/00/000/bt_2_090_01/bt_2_090_01_e2.jpg?t=1656579423664\" src=\"/ecm/img/cmm/blank.png\" title=\"momo\" width=\"80\"/><span class=\"prdtxt\" id=\"bt_2_090_01_e4\">歌林登記送好禮</span></a>"
            ]
          },
          "metadata": {},
          "execution_count": 270
        }
      ]
    },
    {
      "cell_type": "code",
      "source": [
        "products[1]"
      ],
      "metadata": {
        "colab": {
          "base_uri": "https://localhost:8080/"
        },
        "id": "SSbSKobI8ysz",
        "outputId": "b38d5d16-5609-498d-ea6c-a8c203b297db"
      },
      "execution_count": null,
      "outputs": [
        {
          "output_type": "execute_result",
          "data": {
            "text/plain": [
              "<a href=\"https://www.momoshop.com.tw/edm/cmmedm.jsp?npn=1vEHimBzrGRK&amp;n=1&amp;mdiv=2919100000-bt_2_090_01-bt_2_090_01_e1&amp;ctype=B\" id=\"bt_2_090_01_e1\" title=\"momo\"> <img alt=\"momo\" height=\"80\" id=\"bt_2_090_01_e2\" lazy=\"2\" org=\"//img3.momoshop.com.tw/ecm/img/online/29/191/00/000/bt_2_090_01/bt_2_090_01_e2.jpg?t=1656579423664\" src=\"/ecm/img/cmm/blank.png\" title=\"momo\" width=\"80\"/><span class=\"prdtxt\" id=\"bt_2_090_01_e4\">歌林登記送好禮</span></a>"
            ]
          },
          "metadata": {},
          "execution_count": 271
        }
      ]
    },
    {
      "cell_type": "code",
      "source": [
        "for x in products:\n",
        "  try:\n",
        "    print(x.select('.prdName')[0].text, \"==>\", x.select('.prdPrice')[0].text)\n",
        "  except Exception as e:\n",
        "    print(e.args)\n",
        "#for x in products:\n",
        "  try:\n",
        "    print(x.select('.prdName')[0], x.select('.prdPrice')[0].text)\n",
        "  except Exception as e:\n",
        "    print(e.args)"
      ],
      "metadata": {
        "colab": {
          "base_uri": "https://localhost:8080/"
        },
        "id": "NrC_wqx89I0a",
        "outputId": "2d11e43f-c3af-4590-dc0f-f0cb214d963b"
      },
      "execution_count": null,
      "outputs": [
        {
          "output_type": "stream",
          "name": "stdout",
          "text": [
            "('list index out of range',)\n",
            "('list index out of range',)\n",
            "('list index out of range',)\n",
            "('list index out of range',)\n",
            "('list index out of range',)\n",
            "('list index out of range',)\n",
            "('list index out of range',)\n",
            "('list index out of range',)\n",
            "('list index out of range',)\n",
            "('list index out of range',)\n",
            "('list index out of range',)\n",
            "('list index out of range',)\n",
            "('list index out of range',)\n",
            "('list index out of range',)\n",
            "('list index out of range',)\n",
            "('list index out of range',)\n",
            "('list index out of range',)\n",
            "('list index out of range',)\n",
            "('list index out of range',)\n",
            "('list index out of range',)\n",
            "【Whirlpool 惠而浦】224公升一級能效變頻上下門冰箱-極光銀(WTI2650A) ==> $13,900\n",
            "<span class=\"prdName\" id=\"bt_2_106_04_e4\">【Whirlpool 惠而浦】224公升一級能效變頻上下門冰箱-極光銀(WTI2650A)</span> $13,900\n",
            "【SANLUX 台灣三洋】128公升一級能效雙門定頻冰箱(SR-C125B1) ==> $8,990\n",
            "<span class=\"prdName\" id=\"bt_2_106_04_e11\">【SANLUX 台灣三洋】128公升一級能效雙門定頻冰箱(SR-C125B1)</span> $8,990\n",
            "【TATUNG 大同】158L繽紛鮮獨享單門冰箱-絲絨銀(TR-A2160SLHR) ==> $6,999\n",
            "<span class=\"prdName\" id=\"bt_2_106_04_e18\">【TATUNG 大同】158L繽紛鮮獨享單門冰箱-絲絨銀(TR-A2160SLHR)</span> $6,999\n",
            "【Panasonic 國際牌】610公升 IOT智慧家電玻璃四門變頻冰箱 NR-D611XGS-N翡翠金 ==> $42,210\n",
            "<span class=\"prdName\" id=\"bt_2_106_04_e25\">【Panasonic 國際牌】610公升 IOT智慧家電玻璃四門變頻冰箱 NR-D611XGS-N翡翠金</span> $42,210\n",
            "【TOSHIBA 東芝】409L一級能效變頻鏡面電冰箱GR-AG461TDZ(ZW) ==> $20,900\n",
            "<span class=\"prdName\" id=\"bt_2_106_02_e4\">【TOSHIBA 東芝】409L一級能效變頻鏡面電冰箱GR-AG461TDZ(ZW)</span> $20,900\n",
            "【SAMSUNG 三星】258L一級能效變頻右開雙門冰箱(RT25M4015S8/TW) ==> $13,900\n",
            "<span class=\"prdName\" id=\"bt_2_106_02_e11\">【SAMSUNG 三星】258L一級能效變頻右開雙門冰箱(RT25M4015S8/TW)</span> $13,900\n",
            "【TOSHIBA 東芝】330公升變頻雙門冰箱GR-A370TBZ(N) ==> $17,900\n",
            "<span class=\"prdName\" id=\"bt_2_106_02_e18\">【TOSHIBA 東芝】330公升變頻雙門冰箱GR-A370TBZ(N)</span> $17,900\n",
            "【TOSHIBA 東芝】509L無邊框玻璃六門變頻電冰箱GR-ZP510TFW(UW) ==> $62,910\n",
            "<span class=\"prdName\" id=\"bt_2_106_02_e25\">【TOSHIBA 東芝】509L無邊框玻璃六門變頻電冰箱GR-ZP510TFW(UW)</span> $62,910\n",
            "【HERAN 禾聯】45L二級能效定頻單門冰箱(HRE-0513) ==> $5,090\n",
            "<span class=\"prdName\" id=\"bt_2_106_05_e4\">【HERAN 禾聯】45L二級能效定頻單門冰箱(HRE-0513)</span> $5,090\n",
            "【HERAN 禾聯】344L一級能效雙效抑菌脫臭變頻雙門電冰箱-木紋棕(HRE-B3581V-B)5875133 ==> $18,900\n",
            "<span class=\"prdName\" id=\"bt_2_106_05_e11\">【HERAN 禾聯】344L一級能效雙效抑菌脫臭變頻雙門電冰箱-木紋棕(HRE-B3581V-B)5875133</span> $18,900\n",
            "【HERAN 禾聯】67L二級能效定頻單門冰箱(HRE-0715) ==> $5,590\n",
            "<span class=\"prdName\" id=\"bt_2_106_05_e18\">【HERAN 禾聯】67L二級能效定頻單門冰箱(HRE-0715)</span> $5,590\n",
            "【HERAN 禾聯】92L 二級能效節能定頻單門冰箱(HRE-1015) ==> $6,090\n",
            "<span class=\"prdName\" id=\"bt_2_106_05_e25\">【HERAN 禾聯】92L 二級能效節能定頻單門冰箱(HRE-1015)</span> $6,090\n",
            "【Frigidaire富及第】338L一級能效定頻雙門冰箱(FFET1222QW / FFET1226QM福利品) ==> $14,900\n",
            "<span class=\"prdName\" id=\"bt_2_092_02_e8\">【Frigidaire富及第】338L一級能效定頻雙門冰箱(FFET1222QW / FFET1226QM福利品)</span> $14,900\n",
            "【Frigidaire 富及第】90L 1級省電雙門小冰箱 福利品(FRT-0904M/FRT-0906M/FRT-0908M) ==> $6,999\n",
            "<span class=\"prdName\" id=\"bt_2_092_02_e14\">【Frigidaire 富及第】90L 1級省電雙門小冰箱 福利品(FRT-0904M/FRT-0906M/FRT-0908M)</span> $6,999\n",
            "【富及第】338L1級省電冰箱-白福利品+20L美型微波爐 ==> $16,900\n",
            "<span class=\"prdName\" id=\"bt_2_092_02_e18\">【富及第】338L1級省電冰箱-白福利品+20L美型微波爐</span> $16,900\n",
            "【富及第】90L1級省電冰箱-銀福利品+4.5KG自動迷你洗衣機 ==> $11,900\n",
            "<span class=\"prdName\" id=\"bt_2_092_02_e23\">【富及第】90L1級省電冰箱-銀福利品+4.5KG自動迷你洗衣機</span> $11,900\n",
            "1+1涼爽福利組【TAIGA 大河】直立40L冷凍櫃(福利品)+空氣循環扇 ==> $6,460\n",
            "<span class=\"prdName\" id=\"bt_2_092_02_e150\">1+1涼爽福利組【TAIGA 大河】直立40L冷凍櫃(福利品)+空氣循環扇</span> $6,460\n",
            "【TECO 東元】福利品★125公升雙門冰箱(R1301N) ==> $8,820\n",
            "<span class=\"prdName\" id=\"bt_2_092_02_e30\">【TECO 東元】福利品★125公升雙門冰箱(R1301N)</span> $8,820\n",
            "【TECO 東元】福利品★315公升 一級能效智能變頻右開四門冰箱(R3150DTXH) ==> $21,949\n",
            "<span class=\"prdName\" id=\"bt_2_092_02_e36\">【TECO 東元】福利品★315公升 一級能效智能變頻右開四門冰箱(R3150DTXH)</span> $21,949\n",
            "【TECO 東元】福利品★480公升 一級能效變頻右開雙門冰箱(R4892XHK) ==> 熱銷一空\n",
            "<span class=\"prdName\" id=\"bt_2_092_02_e42\">【TECO 東元】福利品★480公升 一級能效變頻右開雙門冰箱(R4892XHK)</span> 熱銷一空\n",
            "【TECO 東元】福利品★600公升 一級能效變頻右開三門冰箱(R6171VXHK) ==> $27,963\n",
            "<span class=\"prdName\" id=\"bt_2_092_02_e48\">【TECO 東元】福利品★600公升 一級能效變頻右開三門冰箱(R6171VXHK)</span> $27,963\n",
            "【TECO 東元】福利品★101公升雙門冰箱 白色(R1011W) ==> $6,405\n",
            "<span class=\"prdName\" id=\"bt_2_092_02_e157\">【TECO 東元】福利品★101公升雙門冰箱 白色(R1011W)</span> $6,405\n",
            "【SANLUX 台灣三洋】128公升一級能效定頻右開雙門冰箱福利品－珍珠白(SR-C128B1) ==> $9,989\n",
            "<span class=\"prdName\" id=\"bt_2_092_02_e53\">【SANLUX 台灣三洋】128公升一級能效定頻右開雙門冰箱福利品－珍珠白(SR-C128B1)</span> $9,989\n",
            "【SANLUX 台灣三洋】168L 雙門定頻電冰箱 福利品(SR-C168B) ==> $10,669\n",
            "<span class=\"prdName\" id=\"bt_2_092_02_e58\">【SANLUX 台灣三洋】168L 雙門定頻電冰箱 福利品(SR-C168B)</span> $10,669\n",
            "(福利品)【Haier 海爾】266L直立單門無霜冷凍櫃HUF-300銀灰色(無霜冷凍櫃) ==> $12,900\n",
            "<span class=\"prdName\" id=\"bt_2_092_02_e63\">(福利品)【Haier 海爾】266L直立單門無霜冷凍櫃HUF-300銀灰色(無霜冷凍櫃)</span> $12,900\n",
            "【SANLUX 台灣三洋】128L雙門電冰箱福利品(SR-C125B1) ==> 熱銷一空\n",
            "<span class=\"prdName\" id=\"bt_2_092_02_e68\">【SANLUX 台灣三洋】128L雙門電冰箱福利品(SR-C125B1)</span> 熱銷一空\n",
            "1+1涼爽福利組【TAIGA 大河】直立40L冷凍櫃(福利品)+空氣循環扇 ==> $6,460\n",
            "<span class=\"prdName\" id=\"bt_2_092_02_e164\">1+1涼爽福利組【TAIGA 大河】直立40L冷凍櫃(福利品)+空氣循環扇</span> $6,460\n",
            "1+1特惠組【TECO 東元】101L一級能效冰箱(R1011S)+95L冷凍櫃(RL95SW) ==> $11,360\n",
            "<span class=\"prdName\" id=\"bt_2_092_02_e73\">1+1特惠組【TECO 東元】101L一級能效冰箱(R1011S)+95L冷凍櫃(RL95SW)</span> $11,360\n",
            "1+1特惠組【聲寶】460L二級能效雙門冰箱(SR-M460D★退稅2000元)+Alpha S1+無線吸塵器(EC-H15UND) ==> $20,705\n",
            "<span class=\"prdName\" id=\"bt_2_092_02_e78\">1+1特惠組【聲寶】460L二級能效雙門冰箱(SR-M460D★退稅2000元)+Alpha S1+無線吸塵器(EC-H15UND)</span> $20,705\n",
            "1+1特惠組【聲寶】530公升二級能效三門冰箱(SR-M530DV★退稅2000元)+Alpha S1+無線吸塵器(EC-H15UND) ==> $26,086\n",
            "<span class=\"prdName\" id=\"bt_2_092_02_e83\">1+1特惠組【聲寶】530公升二級能效三門冰箱(SR-M530DV★退稅2000元)+Alpha S1+無線吸塵器(EC-H15UND)</span> $26,086\n",
            "1+1特惠組【聲寶】205公升一級變頻雙門冰箱(SR-M20D★退稅1200元)+Alpha S1+無線吸塵器(EC-H15UND) ==> $15,769\n",
            "<span class=\"prdName\" id=\"bt_2_092_02_e88\">1+1特惠組【聲寶】205公升一級變頻雙門冰箱(SR-M20D★退稅1200元)+Alpha S1+無線吸塵器(EC-H15UND)</span> $15,769\n",
            "1+1特惠組【聲寶】340公升一級能效雙門冰箱(SR-M34D★退稅1200元)+Alpha S1+無線吸塵器(EC-H15UND) ==> $18,849\n",
            "<span class=\"prdName\" id=\"bt_2_092_02_e171\">1+1特惠組【聲寶】340公升一級能效雙門冰箱(SR-M34D★退稅1200元)+Alpha S1+無線吸塵器(EC-H15UND)</span> $18,849\n",
            "【ZANWA 晶華】8L冷暖兩用定頻右開單門電子式行動冰箱/冷藏箱/保溫箱(CLT-08B綠色) ==> $2,108\n",
            "<span class=\"prdName\" id=\"bt_2_092_01_e8\">【ZANWA 晶華】8L冷暖兩用定頻右開單門電子式行動冰箱/冷藏箱/保溫箱(CLT-08B綠色)</span> $2,108\n",
            "【Mobicool】電子式行動迷你冰箱MBF20PS 黑色款(家用/車用) ==> $2,831\n",
            "<span class=\"prdName\" id=\"bt_2_092_01_e14\">【Mobicool】電子式行動迷你冰箱MBF20PS 黑色款(家用/車用)</span> $2,831\n",
            "【SAMPO 聲寶】99公升一級能效歐風美型系列定頻右開單門冰箱(SR-C10-P) ==> $4,749\n",
            "<span class=\"prdName\" id=\"bt_2_092_01_e18\">【SAMPO 聲寶】99公升一級能效歐風美型系列定頻右開單門冰箱(SR-C10-P)</span> $4,749\n",
            "【SONGEN 松井】5L冷暖兩用定頻左開單門式電子行動冰箱/冷藏箱/保溫箱/小冰箱(CLT-05R 粉紅色) ==> $1,786\n",
            "<span class=\"prdName\" id=\"bt_2_092_01_e23\">【SONGEN 松井】5L冷暖兩用定頻左開單門式電子行動冰箱/冷藏箱/保溫箱/小冰箱(CLT-05R 粉紅色)</span> $1,786\n",
            "【SONGEN 松井】5L冷暖兩用定頻左開單門式電子行動冰箱/冷藏箱/保溫箱/小冰箱(CLT-05Y 海洋藍) ==> $1,786\n",
            "<span class=\"prdName\" id=\"bt_2_092_01_e150\">【SONGEN 松井】5L冷暖兩用定頻左開單門式電子行動冰箱/冷藏箱/保溫箱/小冰箱(CLT-05Y 海洋藍)</span> $1,786\n",
            "【BOSCH博世】324L二級效能自選門向單門上冷藏下冷凍彩色冰箱(KGN36IJ3AD+KVN36IT0 ==> $65,610\n",
            "<span class=\"prdName\" id=\"bt_2_092_01_e30\">【BOSCH博世】324L二級效能自選門向單門上冷藏下冷凍彩色冰箱(KGN36IJ3AD+KVN36IT0</span> $65,610\n",
            "【BOSCH博世】324L二級效能自選門向單門上冷藏下冷凍彩色冰箱(KGN36IJ3AD+KVN36IE0 ==> $65,610\n",
            "<span class=\"prdName\" id=\"bt_2_092_01_e36\">【BOSCH博世】324L二級效能自選門向單門上冷藏下冷凍彩色冰箱(KGN36IJ3AD+KVN36IE0</span> $65,610\n",
            "【BOSCH 博世】324L二級效能自選門向單門上冷藏下冷凍彩色冰箱(KGN36IJ3AD 棉花糖粉) ==> $65,610\n",
            "<span class=\"prdName\" id=\"bt_2_092_01_e42\">【BOSCH 博世】324L二級效能自選門向單門上冷藏下冷凍彩色冰箱(KGN36IJ3AD 棉花糖粉)</span> $65,610\n",
            "【BOSCH 博世】324L二級效能自選門向單門上冷藏下冷凍彩色冰箱(KGN36IJ3AD+KVN36IH ==> $65,610\n",
            "<span class=\"prdName\" id=\"bt_2_092_01_e48\">【BOSCH 博世】324L二級效能自選門向單門上冷藏下冷凍彩色冰箱(KGN36IJ3AD+KVN36IH</span> $65,610\n",
            "【BOSCH 博世】324L二級效能自選門向單門上冷藏下冷凍彩色冰箱(KGN36IJ3AD+KVN36IV ==> $65,610\n",
            "<span class=\"prdName\" id=\"bt_2_092_01_e157\">【BOSCH 博世】324L二級效能自選門向單門上冷藏下冷凍彩色冰箱(KGN36IJ3AD+KVN36IV</span> $65,610\n",
            "【TECO 東元】101公升 一級能效定頻右開雙門冰箱(R1011S) ==> $6,290\n",
            "<span class=\"prdName\" id=\"bt_2_092_01_e53\">【TECO 東元】101公升 一級能效定頻右開雙門冰箱(R1011S)</span> $6,290\n",
            "【Kolin 歌林】90公升一級能效定頻右開雙門小冰箱(KR-SE20918 雪亮白) ==> $5,888\n",
            "<span class=\"prdName\" id=\"bt_2_092_01_e58\">【Kolin 歌林】90公升一級能效定頻右開雙門小冰箱(KR-SE20918 雪亮白)</span> $5,888\n",
            "【SAMPO 聲寶】47公升二級能效獨享系列定頻右開單門小冰箱(SR-B05) ==> $5,020\n",
            "<span class=\"prdName\" id=\"bt_2_092_01_e63\">【SAMPO 聲寶】47公升二級能效獨享系列定頻右開單門小冰箱(SR-B05)</span> $5,020\n",
            "【HERAN 禾聯】45L二級能效定頻單門冰箱(HRE-0513) ==> $5,090\n",
            "<span class=\"prdName\" id=\"bt_2_092_01_e68\">【HERAN 禾聯】45L二級能效定頻單門冰箱(HRE-0513)</span> $5,090\n",
            "【WINIA韓國煒伲雅】120L韓系復古定頻單門小冰箱(兩色可選) ==> $13,900\n",
            "<span class=\"prdName\" id=\"bt_2_092_01_e164\">【WINIA韓國煒伲雅】120L韓系復古定頻單門小冰箱(兩色可選)</span> $13,900\n",
            "【SAMSUNG 三星】258L一級能效變頻右開雙門冰箱(RT25M4015S8/TW) ==> $13,900\n",
            "<span class=\"prdName\" id=\"bt_2_092_01_e73\">【SAMSUNG 三星】258L一級能效變頻右開雙門冰箱(RT25M4015S8/TW)</span> $13,900\n",
            "【TECO 東元】231公升 一級能效變頻右開雙門冰箱(R2311XHS) ==> $14,490\n",
            "<span class=\"prdName\" id=\"bt_2_092_01_e78\">【TECO 東元】231公升 一級能效變頻右開雙門冰箱(R2311XHS)</span> $14,490\n",
            "【Whirlpool 惠而浦】250公升一級能效變頻上下門冰箱-極光銀(WTI2920A) ==> $14,900\n",
            "<span class=\"prdName\" id=\"bt_2_092_01_e83\">【Whirlpool 惠而浦】250公升一級能效變頻上下門冰箱-極光銀(WTI2920A)</span> $14,900\n",
            "【LG 樂金】208公升一級能效變頻右開上下門冰箱(GN-L297SV) ==> $13,490\n",
            "<span class=\"prdName\" id=\"bt_2_092_01_e88\">【LG 樂金】208公升一級能效變頻右開上下門冰箱(GN-L297SV)</span> $13,490\n",
            "【LG 樂金】315公升一級能效變頻右開上下門冰箱(GN-L397SV) ==> $19,465\n",
            "<span class=\"prdName\" id=\"bt_2_092_01_e171\">【LG 樂金】315公升一級能效變頻右開上下門冰箱(GN-L397SV)</span> $19,465\n",
            "【Frigidaire富及第】338L一級能效定頻雙門冰箱(FFET1222QW / FFET1226QM福利品) ==> $14,900\n",
            "<span class=\"prdName\" id=\"bt_2_106_03_e4\">【Frigidaire富及第】338L一級能效定頻雙門冰箱(FFET1222QW / FFET1226QM福利品)</span> $14,900\n",
            "【Whirlpool 惠而浦】590L智能溫度控制變頻對開門冰箱(WHX620SS) ==> $39,900\n",
            "<span class=\"prdName\" id=\"bt_2_106_03_e11\">【Whirlpool 惠而浦】590L智能溫度控制變頻對開門冰箱(WHX620SS)</span> $39,900\n",
            "【Kolin 歌林】125公升二級能效精緻定頻右開雙門冰箱KR-213S03-銀色(送基本安裝/舊機回收) ==> $9,393\n",
            "<span class=\"prdName\" id=\"bt_2_106_03_e18\">【Kolin 歌林】125公升二級能效精緻定頻右開雙門冰箱KR-213S03-銀色(送基本安裝/舊機回收)</span> $9,393\n",
            "【TECO 東元】101公升 一級能效定頻右開雙門冰箱(R1011S) ==> $6,290\n",
            "<span class=\"prdName\" id=\"bt_2_106_03_e25\">【TECO 東元】101公升 一級能效定頻右開雙門冰箱(R1011S)</span> $6,290\n",
            "【LG 樂金】208公升一級能效變頻右開上下門冰箱(GN-L297SV) ==> $13,490\n",
            "<span class=\"prdName\" id=\"bt_2_106_01_e4\">【LG 樂金】208公升一級能效變頻右開上下門冰箱(GN-L297SV)</span> $13,490\n",
            "【SANLUX 台灣三洋】128公升一級能效雙門定頻冰箱(SR-C125B1) ==> $8,990\n",
            "<span class=\"prdName\" id=\"bt_2_106_01_e11\">【SANLUX 台灣三洋】128公升一級能效雙門定頻冰箱(SR-C125B1)</span> $8,990\n",
            "【TATUNG 大同】250L變頻雙門冰箱(TR-B1255VHR) ==> $13,618\n",
            "<span class=\"prdName\" id=\"bt_2_106_01_e18\">【TATUNG 大同】250L變頻雙門冰箱(TR-B1255VHR)</span> $13,618\n",
            "【HITACHI 日立】594L變頻四門對開冰箱(RG616) ==> $35,615\n",
            "<span class=\"prdName\" id=\"bt_2_106_01_e25\">【HITACHI 日立】594L變頻四門對開冰箱(RG616)</span> $35,615\n",
            "('list index out of range',)\n",
            "('list index out of range',)\n",
            "('list index out of range',)\n",
            "('list index out of range',)\n",
            "('list index out of range',)\n",
            "('list index out of range',)\n",
            " ==> $\n",
            "<span class=\"prdName\" id=\"bt_2_097_05_e8\"></span> $\n",
            "【SAMPO 聲寶】460公升二級能效變頻右開雙門冰箱(SR-M460D) ==> $17,777\n",
            "<span class=\"prdName\" id=\"bt_2_097_05_e14\">【SAMPO 聲寶】460公升二級能效變頻右開雙門冰箱(SR-M460D)</span> $17,777\n",
            "【SAMPO 聲寶】★MOMO獨家★530公升 時尚變頻右開三門冰箱(SR-M530DV) ==> $22,677\n",
            "<span class=\"prdName\" id=\"bt_2_097_05_e20\">【SAMPO 聲寶】★MOMO獨家★530公升 時尚變頻右開三門冰箱(SR-M530DV)</span> $22,677\n",
            "【SAMPO 聲寶】★MOMO獨家★205公升一級變頻右開雙門冰箱(SR-M20D) ==> $13,900\n",
            "<span class=\"prdName\" id=\"bt_2_097_05_e151\">【SAMPO 聲寶】★MOMO獨家★205公升一級變頻右開雙門冰箱(SR-M20D)</span> $13,900\n",
            "【SAMPO 聲寶】★MOMO獨家★340公升一級變頻右開雙門冰箱(SR-M34D) ==> $17,900\n",
            "<span class=\"prdName\" id=\"bt_2_097_05_e157\">【SAMPO 聲寶】★MOMO獨家★340公升一級變頻右開雙門冰箱(SR-M34D)</span> $17,900\n",
            " ==> $\n",
            "<span class=\"prdName\" id=\"bt_2_097_05_e26\"></span> $\n",
            "【Frigidaire 富及第】90L 1級省電雙門小冰箱 福利品(FRT-0904M/FRT-0906M/FRT-0908M) ==> $6,999\n",
            "<span class=\"prdName\" id=\"bt_2_097_05_e32\">【Frigidaire 富及第】90L 1級省電雙門小冰箱 福利品(FRT-0904M/FRT-0906M/FRT-0908M)</span> $6,999\n",
            "【Frigidaire 富及第】90L 1級省電雙門小冰箱 銀 福利品+4.5KG全自動迷你洗衣機(FRT-0908M+FAW-0451S) ==> $11,900\n",
            "<span class=\"prdName\" id=\"bt_2_097_05_e38\">【Frigidaire 富及第】90L 1級省電雙門小冰箱 銀 福利品+4.5KG全自動迷你洗衣機(FRT-0908M+FAW-0451S)</span> $11,900\n",
            "【Frigidaire富及第】338L一級能效定頻雙門冰箱(FFET1222QW / FFET1226QM福利品) ==> $14,900\n",
            "<span class=\"prdName\" id=\"bt_2_097_05_e163\">【Frigidaire富及第】338L一級能效定頻雙門冰箱(FFET1222QW / FFET1226QM福利品)</span> $14,900\n",
            "【Frigidaire 富及第】338L 1級省電 新美式雙門冰箱 質感銀 福利品+20L 美型微波爐(FFET1226QM+FKM-2024MB) ==> $16,900\n",
            "<span class=\"prdName\" id=\"bt_2_097_05_e169\">【Frigidaire 富及第】338L 1級省電 新美式雙門冰箱 質感銀 福利品+20L 美型微波爐(FFET1226QM+FKM-2024MB)</span> $16,900\n",
            " ==> $\n",
            "<span class=\"prdName\" id=\"bt_2_097_05_e44\"></span> $\n",
            " ==> $\n",
            "<span class=\"prdName\" id=\"bt_2_097_05_e50\"></span> $\n",
            " ==> $\n",
            "<span class=\"prdName\" id=\"bt_2_097_05_e56\"></span> $\n",
            " ==> $\n",
            "<span class=\"prdName\" id=\"bt_2_097_05_e175\"></span> $\n",
            " ==> $\n",
            "<span class=\"prdName\" id=\"bt_2_097_05_e181\"></span> $\n",
            " ==> $\n",
            "<span class=\"prdName\" id=\"bt_2_097_05_e62\"></span> $\n",
            " ==> $\n",
            "<span class=\"prdName\" id=\"bt_2_097_05_e68\"></span> $\n",
            " ==> $\n",
            "<span class=\"prdName\" id=\"bt_2_097_05_e74\"></span> $\n",
            " ==> $\n",
            "<span class=\"prdName\" id=\"bt_2_097_05_e187\"></span> $\n",
            " ==> $\n",
            "<span class=\"prdName\" id=\"bt_2_097_05_e193\"></span> $\n",
            " ==> $\n",
            "<span class=\"prdName\" id=\"bt_2_097_05_e80\"></span> $\n",
            " ==> $\n",
            "<span class=\"prdName\" id=\"bt_2_097_05_e86\"></span> $\n",
            " ==> $\n",
            "<span class=\"prdName\" id=\"bt_2_097_05_e92\"></span> $\n",
            " ==> $\n",
            "<span class=\"prdName\" id=\"bt_2_097_05_e199\"></span> $\n",
            " ==> $\n",
            "<span class=\"prdName\" id=\"bt_2_097_05_e205\"></span> $\n",
            " ==> $\n",
            "<span class=\"prdName\" id=\"bt_2_097_05_e98\"></span> $\n",
            " ==> $\n",
            "<span class=\"prdName\" id=\"bt_2_097_05_e104\"></span> $\n",
            " ==> $\n",
            "<span class=\"prdName\" id=\"bt_2_097_05_e110\"></span> $\n",
            " ==> $\n",
            "<span class=\"prdName\" id=\"bt_2_097_05_e211\"></span> $\n",
            " ==> $\n",
            "<span class=\"prdName\" id=\"bt_2_097_05_e217\"></span> $\n",
            " ==> $\n",
            "<span class=\"prdName\" id=\"bt_2_097_05_e116\"></span> $\n",
            " ==> $\n",
            "<span class=\"prdName\" id=\"bt_2_097_05_e122\"></span> $\n",
            " ==> $\n",
            "<span class=\"prdName\" id=\"bt_2_097_05_e128\"></span> $\n",
            " ==> $\n",
            "<span class=\"prdName\" id=\"bt_2_097_05_e223\"></span> $\n",
            " ==> $\n",
            "<span class=\"prdName\" id=\"bt_2_097_05_e229\"></span> $\n",
            " ==> $\n",
            "<span class=\"prdName\" id=\"bt_2_097_05_e133\"></span> $\n",
            " ==> $\n",
            "<span class=\"prdName\" id=\"bt_2_097_05_e139\"></span> $\n",
            " ==> $\n",
            "<span class=\"prdName\" id=\"bt_2_097_05_e145\"></span> $\n",
            " ==> $\n",
            "<span class=\"prdName\" id=\"bt_2_097_05_e235\"></span> $\n",
            " ==> $\n",
            "<span class=\"prdName\" id=\"bt_2_097_05_e241\"></span> $\n",
            "【TECO 東元】101公升 一級能效定頻右開雙門冰箱(R1011S) ==> $6,290\n",
            "<span class=\"prdName\" id=\"bt_2_097_03_e8\">【TECO 東元】101公升 一級能效定頻右開雙門冰箱(R1011S)</span> $6,290\n",
            "【TECO 東元】231公升 一級能效變頻右開雙門冰箱(R2311XHS) ==> $14,490\n",
            "<span class=\"prdName\" id=\"bt_2_097_03_e14\">【TECO 東元】231公升 一級能效變頻右開雙門冰箱(R2311XHS)</span> $14,490\n",
            "【TECO 東元】101公升 一級能效定頻右開雙門冰箱(R1011S) ==> $6,290\n",
            "<span class=\"prdName\" id=\"bt_2_097_03_e20\">【TECO 東元】101公升 一級能效定頻右開雙門冰箱(R1011S)</span> $6,290\n",
            "【TECO 東元】315公升 一級能效智能變頻右開四門冰箱(R3150DTXH) ==> $22,900\n",
            "<span class=\"prdName\" id=\"bt_2_097_03_e151\">【TECO 東元】315公升 一級能效智能變頻右開四門冰箱(R3150DTXH)</span> $22,900\n",
            "【TECO 東元】86公升 一級能效定頻右開雙門復古式冰箱(R1086B) ==> $9,900\n",
            "<span class=\"prdName\" id=\"bt_2_097_03_e157\">【TECO 東元】86公升 一級能效定頻右開雙門復古式冰箱(R1086B)</span> $9,900\n",
            "日立冰箱 ==> 熱銷一空\n",
            "<span class=\"prdName\" id=\"bt_2_097_03_e26\">日立冰箱</span> 熱銷一空\n",
            "【HITACHI 日立】407L一級能效日製變頻右開五門冰箱(RS42NJ-SN) ==> $43,148\n",
            "<span class=\"prdName\" id=\"bt_2_097_03_e32\">【HITACHI 日立】407L一級能效日製變頻右開五門冰箱(RS42NJ-SN)</span> $43,148\n",
            "【HITACHI 日立】417L 一級能效變頻雙門右開冰箱(RVX429-BSL) ==> $21,988\n",
            "<span class=\"prdName\" id=\"bt_2_097_03_e38\">【HITACHI 日立】417L 一級能效變頻雙門右開冰箱(RVX429-BSL)</span> $21,988\n",
            "【HITACHI 日立】313L一級能效變頻右開雙門冰箱(RBX330-XGR) ==> $23,828\n",
            "<span class=\"prdName\" id=\"bt_2_097_03_e163\">【HITACHI 日立】313L一級能效變頻右開雙門冰箱(RBX330-XGR)</span> $23,828\n",
            "【HITACHI 日立】394L一級能效變頻三門右開冰箱(RV41C-CNX) ==> $31,188\n",
            "<span class=\"prdName\" id=\"bt_2_097_03_e169\">【HITACHI 日立】394L一級能效變頻三門右開冰箱(RV41C-CNX)</span> $31,188\n",
            " ==> $\n",
            "<span class=\"prdName\" id=\"bt_2_097_03_e44\"></span> $\n",
            " ==> $\n",
            "<span class=\"prdName\" id=\"bt_2_097_03_e50\"></span> $\n",
            " ==> $\n",
            "<span class=\"prdName\" id=\"bt_2_097_03_e56\"></span> $\n",
            " ==> $\n",
            "<span class=\"prdName\" id=\"bt_2_097_03_e175\"></span> $\n",
            " ==> $\n",
            "<span class=\"prdName\" id=\"bt_2_097_03_e181\"></span> $\n",
            " ==> $\n",
            "<span class=\"prdName\" id=\"bt_2_097_03_e62\"></span> $\n",
            " ==> $\n",
            "<span class=\"prdName\" id=\"bt_2_097_03_e68\"></span> $\n",
            " ==> $\n",
            "<span class=\"prdName\" id=\"bt_2_097_03_e74\"></span> $\n",
            " ==> $\n",
            "<span class=\"prdName\" id=\"bt_2_097_03_e187\"></span> $\n",
            " ==> $\n",
            "<span class=\"prdName\" id=\"bt_2_097_03_e193\"></span> $\n",
            " ==> $\n",
            "<span class=\"prdName\" id=\"bt_2_097_03_e80\"></span> $\n",
            " ==> $\n",
            "<span class=\"prdName\" id=\"bt_2_097_03_e86\"></span> $\n",
            " ==> $\n",
            "<span class=\"prdName\" id=\"bt_2_097_03_e92\"></span> $\n",
            " ==> $\n",
            "<span class=\"prdName\" id=\"bt_2_097_03_e199\"></span> $\n",
            " ==> $\n",
            "<span class=\"prdName\" id=\"bt_2_097_03_e205\"></span> $\n",
            " ==> $\n",
            "<span class=\"prdName\" id=\"bt_2_097_03_e98\"></span> $\n",
            " ==> $\n",
            "<span class=\"prdName\" id=\"bt_2_097_03_e104\"></span> $\n",
            " ==> $\n",
            "<span class=\"prdName\" id=\"bt_2_097_03_e110\"></span> $\n",
            " ==> $\n",
            "<span class=\"prdName\" id=\"bt_2_097_03_e211\"></span> $\n",
            " ==> $\n",
            "<span class=\"prdName\" id=\"bt_2_097_03_e217\"></span> $\n",
            " ==> $\n",
            "<span class=\"prdName\" id=\"bt_2_097_03_e116\"></span> $\n",
            " ==> $\n",
            "<span class=\"prdName\" id=\"bt_2_097_03_e122\"></span> $\n",
            " ==> $\n",
            "<span class=\"prdName\" id=\"bt_2_097_03_e128\"></span> $\n",
            " ==> $\n",
            "<span class=\"prdName\" id=\"bt_2_097_03_e223\"></span> $\n",
            " ==> $\n",
            "<span class=\"prdName\" id=\"bt_2_097_03_e229\"></span> $\n",
            " ==> $\n",
            "<span class=\"prdName\" id=\"bt_2_097_03_e133\"></span> $\n",
            " ==> $\n",
            "<span class=\"prdName\" id=\"bt_2_097_03_e139\"></span> $\n",
            " ==> $\n",
            "<span class=\"prdName\" id=\"bt_2_097_03_e145\"></span> $\n",
            " ==> $\n",
            "<span class=\"prdName\" id=\"bt_2_097_03_e235\"></span> $\n",
            " ==> $\n",
            "<span class=\"prdName\" id=\"bt_2_097_03_e241\"></span> $\n",
            "LG 樂金 ==> $\n",
            "<span class=\"prdName\" id=\"bt_2_097_02_e8\">LG 樂金</span> $\n",
            "【LG 樂金】393公升二級能效鏡面變頻右開上下門冰箱(GN-BL430GB) ==> $19,888\n",
            "<span class=\"prdName\" id=\"bt_2_097_02_e14\">【LG 樂金】393公升二級能效鏡面變頻右開上下門冰箱(GN-BL430GB)</span> $19,888\n",
            "761公升WiFi敲敲看門中門變頻對開冰箱(GR-QPL88SV) ==> $74,712\n",
            "<span class=\"prdName\" id=\"bt_2_097_02_e20\">761公升WiFi敲敲看門中門變頻對開冰箱(GR-QPL88SV)</span> $74,712\n",
            "2022新機上市【LG 樂金】335公升一級能效變頻右開上下門冰箱(GN-L332BS) ==> $23,310\n",
            "<span class=\"prdName\" id=\"bt_2_097_02_e151\">2022新機上市【LG 樂金】335公升一級能效變頻右開上下門冰箱(GN-L332BS)</span> $23,310\n",
            "【LG 樂金】525公升WiFi 變頻右開上下門冰箱(GN-DL567SV) ==> $22,941\n",
            "<span class=\"prdName\" id=\"bt_2_097_02_e157\">【LG 樂金】525公升WiFi 變頻右開上下門冰箱(GN-DL567SV)</span> $22,941\n",
            "Whirlpool 惠而浦 ==> $\n",
            "<span class=\"prdName\" id=\"bt_2_097_02_e26\">Whirlpool 惠而浦</span> $\n",
            "533L無框強化玻璃層板定頻上下門冰箱(8WRT19FZDW) ==> $27,368\n",
            "<span class=\"prdName\" id=\"bt_2_097_02_e32\">533L無框強化玻璃層板定頻上下門冰箱(8WRT19FZDW)</span> $27,368\n",
            "590L智能溫度控制變頻對開門冰箱(WHX620SS) ==> $39,900\n",
            "<span class=\"prdName\" id=\"bt_2_097_02_e38\">590L智能溫度控制變頻對開門冰箱(WHX620SS)</span> $39,900\n",
            "570L一級能效變頻右開上下門冰箱(WRT571S) ==> $26,274\n",
            "<span class=\"prdName\" id=\"bt_2_097_02_e163\">570L一級能效變頻右開上下門冰箱(WRT571S)</span> $26,274\n",
            "【Whirlpool 惠而浦】430公升一級能效變頻上下門冰箱-極光銀(WTI5000A) ==> $22,900\n",
            "<span class=\"prdName\" id=\"bt_2_097_02_e169\">【Whirlpool 惠而浦】430公升一級能效變頻上下門冰箱-極光銀(WTI5000A)</span> $22,900\n",
            " ==> $\n",
            "<span class=\"prdName\" id=\"bt_2_097_02_e44\"></span> $\n",
            " ==> $\n",
            "<span class=\"prdName\" id=\"bt_2_097_02_e50\"></span> $\n",
            " ==> $\n",
            "<span class=\"prdName\" id=\"bt_2_097_02_e56\"></span> $\n",
            " ==> $\n",
            "<span class=\"prdName\" id=\"bt_2_097_02_e175\"></span> $\n",
            " ==> $\n",
            "<span class=\"prdName\" id=\"bt_2_097_02_e181\"></span> $\n",
            " ==> $\n",
            "<span class=\"prdName\" id=\"bt_2_097_02_e62\"></span> $\n",
            " ==> $\n",
            "<span class=\"prdName\" id=\"bt_2_097_02_e68\"></span> $\n",
            " ==> $\n",
            "<span class=\"prdName\" id=\"bt_2_097_02_e74\"></span> $\n",
            " ==> $\n",
            "<span class=\"prdName\" id=\"bt_2_097_02_e187\"></span> $\n",
            " ==> $\n",
            "<span class=\"prdName\" id=\"bt_2_097_02_e193\"></span> $\n",
            " ==> $\n",
            "<span class=\"prdName\" id=\"bt_2_097_02_e80\"></span> $\n",
            " ==> $\n",
            "<span class=\"prdName\" id=\"bt_2_097_02_e86\"></span> $\n",
            " ==> $\n",
            "<span class=\"prdName\" id=\"bt_2_097_02_e92\"></span> $\n",
            " ==> $\n",
            "<span class=\"prdName\" id=\"bt_2_097_02_e199\"></span> $\n",
            " ==> $\n",
            "<span class=\"prdName\" id=\"bt_2_097_02_e205\"></span> $\n",
            " ==> $\n",
            "<span class=\"prdName\" id=\"bt_2_097_02_e98\"></span> $\n",
            " ==> $\n",
            "<span class=\"prdName\" id=\"bt_2_097_02_e104\"></span> $\n",
            " ==> $\n",
            "<span class=\"prdName\" id=\"bt_2_097_02_e110\"></span> $\n",
            " ==> $\n",
            "<span class=\"prdName\" id=\"bt_2_097_02_e211\"></span> $\n",
            " ==> $\n",
            "<span class=\"prdName\" id=\"bt_2_097_02_e217\"></span> $\n",
            " ==> $\n",
            "<span class=\"prdName\" id=\"bt_2_097_02_e116\"></span> $\n",
            " ==> $\n",
            "<span class=\"prdName\" id=\"bt_2_097_02_e122\"></span> $\n",
            " ==> $\n",
            "<span class=\"prdName\" id=\"bt_2_097_02_e128\"></span> $\n",
            " ==> $\n",
            "<span class=\"prdName\" id=\"bt_2_097_02_e223\"></span> $\n",
            " ==> $\n",
            "<span class=\"prdName\" id=\"bt_2_097_02_e229\"></span> $\n",
            " ==> $\n",
            "<span class=\"prdName\" id=\"bt_2_097_02_e133\"></span> $\n",
            " ==> $\n",
            "<span class=\"prdName\" id=\"bt_2_097_02_e139\"></span> $\n",
            " ==> $\n",
            "<span class=\"prdName\" id=\"bt_2_097_02_e145\"></span> $\n",
            " ==> $\n",
            "<span class=\"prdName\" id=\"bt_2_097_02_e235\"></span> $\n",
            " ==> $\n",
            "<span class=\"prdName\" id=\"bt_2_097_02_e241\"></span> $\n",
            " ==> $\n",
            "<span class=\"prdName\" id=\"bt_2_097_04_e8\"></span> $\n",
            "【Kolin歌林】485公升一級能效變頻右開雙門冰箱KR-248V03-燦銀灰(送基本運送安裝+舊機回收) ==> $22,726\n",
            "<span class=\"prdName\" id=\"bt_2_097_04_e14\">【Kolin歌林】485公升一級能效變頻右開雙門冰箱KR-248V03-燦銀灰(送基本運送安裝+舊機回收)</span> $22,726\n",
            "【Kolin 歌林】125公升二級能效精緻定頻右開雙門冰箱KR-213S03-銀色(送基本安裝/舊機回收) ==> $9,393\n",
            "<span class=\"prdName\" id=\"bt_2_097_04_e20\">【Kolin 歌林】125公升二級能效精緻定頻右開雙門冰箱KR-213S03-銀色(送基本安裝/舊機回收)</span> $9,393\n",
            "【Kolin 歌林】579公升一級能效精緻變頻右開雙門冰箱KR-258V03燦銀灰(基本運送/安裝+舊機回收) ==> $25,555\n",
            "<span class=\"prdName\" id=\"bt_2_097_04_e151\">【Kolin 歌林】579公升一級能效精緻變頻右開雙門冰箱KR-258V03燦銀灰(基本運送/安裝+舊機回收)</span> $25,555\n",
            "【Kolin 歌林】90公升一級能效定頻右開雙門小冰箱(KR-SE20918 雪亮白) ==> $5,888\n",
            "<span class=\"prdName\" id=\"bt_2_097_04_e157\">【Kolin 歌林】90公升一級能效定頻右開雙門小冰箱(KR-SE20918 雪亮白)</span> $5,888\n",
            " ==> $\n",
            "<span class=\"prdName\" id=\"bt_2_097_04_e26\"></span> $\n",
            "【HERAN 禾聯】485L一級能效銀離子抑菌變頻雙門冰箱-穗香金(HRE-B4823V) ==> $24,590\n",
            "<span class=\"prdName\" id=\"bt_2_097_04_e32\">【HERAN 禾聯】485L一級能效銀離子抑菌變頻雙門冰箱-穗香金(HRE-B4823V)</span> $24,590\n",
            "【HERAN 禾聯】100L新一級能效定頻雙門電冰箱(HRE-B1013) ==> $7,690\n",
            "<span class=\"prdName\" id=\"bt_2_097_04_e38\">【HERAN 禾聯】100L新一級能效定頻雙門電冰箱(HRE-B1013)</span> $7,690\n",
            "【HERAN 禾聯】579L ㄧ級變頻雙門電冰箱(HRE-B5822V-G) ==> 熱銷一空\n",
            "<span class=\"prdName\" id=\"bt_2_097_04_e163\">【HERAN 禾聯】579L ㄧ級變頻雙門電冰箱(HRE-B5822V-G)</span> 熱銷一空\n",
            "【HERAN 禾聯】50L 電子冷藏箱(HBO-0571 BL) ==> $5,390\n",
            "<span class=\"prdName\" id=\"bt_2_097_04_e169\">【HERAN 禾聯】50L 電子冷藏箱(HBO-0571 BL)</span> $5,390\n",
            " ==> $\n",
            "<span class=\"prdName\" id=\"bt_2_097_04_e44\"></span> $\n",
            " ==> $\n",
            "<span class=\"prdName\" id=\"bt_2_097_04_e50\"></span> $\n",
            " ==> $\n",
            "<span class=\"prdName\" id=\"bt_2_097_04_e56\"></span> $\n",
            " ==> $\n",
            "<span class=\"prdName\" id=\"bt_2_097_04_e175\"></span> $\n",
            " ==> $\n",
            "<span class=\"prdName\" id=\"bt_2_097_04_e181\"></span> $\n",
            " ==> $\n",
            "<span class=\"prdName\" id=\"bt_2_097_04_e62\"></span> $\n",
            " ==> $\n",
            "<span class=\"prdName\" id=\"bt_2_097_04_e68\"></span> $\n",
            " ==> $\n",
            "<span class=\"prdName\" id=\"bt_2_097_04_e74\"></span> $\n",
            " ==> $\n",
            "<span class=\"prdName\" id=\"bt_2_097_04_e187\"></span> $\n",
            " ==> $\n",
            "<span class=\"prdName\" id=\"bt_2_097_04_e193\"></span> $\n",
            " ==> $\n",
            "<span class=\"prdName\" id=\"bt_2_097_04_e80\"></span> $\n",
            " ==> $\n",
            "<span class=\"prdName\" id=\"bt_2_097_04_e86\"></span> $\n",
            " ==> $\n",
            "<span class=\"prdName\" id=\"bt_2_097_04_e92\"></span> $\n",
            " ==> $\n",
            "<span class=\"prdName\" id=\"bt_2_097_04_e199\"></span> $\n",
            " ==> $\n",
            "<span class=\"prdName\" id=\"bt_2_097_04_e205\"></span> $\n",
            " ==> $\n",
            "<span class=\"prdName\" id=\"bt_2_097_04_e98\"></span> $\n",
            " ==> $\n",
            "<span class=\"prdName\" id=\"bt_2_097_04_e104\"></span> $\n",
            " ==> $\n",
            "<span class=\"prdName\" id=\"bt_2_097_04_e110\"></span> $\n",
            " ==> $\n",
            "<span class=\"prdName\" id=\"bt_2_097_04_e211\"></span> $\n",
            " ==> $\n",
            "<span class=\"prdName\" id=\"bt_2_097_04_e217\"></span> $\n",
            " ==> $\n",
            "<span class=\"prdName\" id=\"bt_2_097_04_e116\"></span> $\n",
            " ==> $\n",
            "<span class=\"prdName\" id=\"bt_2_097_04_e122\"></span> $\n",
            " ==> $\n",
            "<span class=\"prdName\" id=\"bt_2_097_04_e128\"></span> $\n",
            " ==> $\n",
            "<span class=\"prdName\" id=\"bt_2_097_04_e223\"></span> $\n",
            " ==> $\n",
            "<span class=\"prdName\" id=\"bt_2_097_04_e229\"></span> $\n",
            " ==> $\n",
            "<span class=\"prdName\" id=\"bt_2_097_04_e133\"></span> $\n",
            " ==> $\n",
            "<span class=\"prdName\" id=\"bt_2_097_04_e139\"></span> $\n",
            " ==> $\n",
            "<span class=\"prdName\" id=\"bt_2_097_04_e145\"></span> $\n",
            " ==> $\n",
            "<span class=\"prdName\" id=\"bt_2_097_04_e235\"></span> $\n",
            " ==> $\n",
            "<span class=\"prdName\" id=\"bt_2_097_04_e241\"></span> $\n",
            "【Panasonic 國際牌】422公升一級能效變頻雙門冰箱-星耀金(NR-B420TV-S1) ==> $19,900\n",
            "<span class=\"prdName\" id=\"bt_2_097_01_e8\">【Panasonic 國際牌】422公升一級能效變頻雙門冰箱-星耀金(NR-B420TV-S1)</span> $19,900\n",
            "【Panasonic 國際牌】167公升一級能效雙門變頻冰箱-星耀金(NR-B170TV-S1) ==> $12,510\n",
            "<span class=\"prdName\" id=\"bt_2_097_01_e14\">【Panasonic 國際牌】167公升一級能效雙門變頻冰箱-星耀金(NR-B170TV-S1)</span> $12,510\n",
            "【Panasonic 國際牌】台灣製580L雙門玻璃冰箱(NR-B582TG-T) ==> $30,141\n",
            "<span class=\"prdName\" id=\"bt_2_097_01_e20\">【Panasonic 國際牌】台灣製580L雙門玻璃冰箱(NR-B582TG-T)</span> $30,141\n",
            "【Panasonic 國際牌】268公升一級能效雙門變頻冰箱-星耀金(NR-B270TV-S1) ==> $16,110\n",
            "<span class=\"prdName\" id=\"bt_2_097_01_e151\">【Panasonic 國際牌】268公升一級能效雙門變頻冰箱-星耀金(NR-B270TV-S1)</span> $16,110\n",
            "【Panasonic 國際牌】366公升一級能效雙門變頻冰箱-星耀金(NR-B370TV-S1) ==> $18,810\n",
            "<span class=\"prdName\" id=\"bt_2_097_01_e157\">【Panasonic 國際牌】366公升一級能效雙門變頻冰箱-星耀金(NR-B370TV-S1)</span> $18,810\n",
            "【SANLUX 台灣三洋】480公升一級能效雙門定頻冰箱(SR-C480B1B) ==> $19,500\n",
            "<span class=\"prdName\" id=\"bt_2_097_01_e26\">【SANLUX 台灣三洋】480公升一級能效雙門定頻冰箱(SR-C480B1B)</span> $19,500\n",
            "【SANLUX 台灣三洋】206公升二級能效雙門冰箱(SR-C208B) ==> $12,017\n",
            "<span class=\"prdName\" id=\"bt_2_097_01_e32\">【SANLUX 台灣三洋】206公升二級能效雙門冰箱(SR-C208B)</span> $12,017\n",
            "【SANLUX 台灣三洋】◆560公升一級能效直流變頻采晶鏡面四門冰箱(SR-C560DV1) ==> $31,425\n",
            "<span class=\"prdName\" id=\"bt_2_097_01_e38\">【SANLUX 台灣三洋】◆560公升一級能效直流變頻采晶鏡面四門冰箱(SR-C560DV1)</span> $31,425\n",
            "【SANLUX 台灣三洋】128公升一級能效雙門定頻冰箱(SR-C125B1) ==> $8,990\n",
            "<span class=\"prdName\" id=\"bt_2_097_01_e163\">【SANLUX 台灣三洋】128公升一級能效雙門定頻冰箱(SR-C125B1)</span> $8,990\n",
            "【SANLUX 台灣三洋】87公升一級能效雙門冰箱(SR-C90B1) ==> $5,888\n",
            "<span class=\"prdName\" id=\"bt_2_097_01_e169\">【SANLUX 台灣三洋】87公升一級能效雙門冰箱(SR-C90B1)</span> $5,888\n",
            " ==> $\n",
            "<span class=\"prdName\" id=\"bt_2_097_01_e44\"></span> $\n",
            " ==> $\n",
            "<span class=\"prdName\" id=\"bt_2_097_01_e50\"></span> $\n",
            " ==> $\n",
            "<span class=\"prdName\" id=\"bt_2_097_01_e56\"></span> $\n",
            " ==> $\n",
            "<span class=\"prdName\" id=\"bt_2_097_01_e175\"></span> $\n",
            " ==> $\n",
            "<span class=\"prdName\" id=\"bt_2_097_01_e181\"></span> $\n",
            " ==> $\n",
            "<span class=\"prdName\" id=\"bt_2_097_01_e62\"></span> $\n",
            " ==> $\n",
            "<span class=\"prdName\" id=\"bt_2_097_01_e68\"></span> $\n",
            " ==> $\n",
            "<span class=\"prdName\" id=\"bt_2_097_01_e74\"></span> $\n",
            " ==> $\n",
            "<span class=\"prdName\" id=\"bt_2_097_01_e187\"></span> $\n",
            " ==> $\n",
            "<span class=\"prdName\" id=\"bt_2_097_01_e193\"></span> $\n",
            " ==> $\n",
            "<span class=\"prdName\" id=\"bt_2_097_01_e80\"></span> $\n",
            " ==> $\n",
            "<span class=\"prdName\" id=\"bt_2_097_01_e86\"></span> $\n",
            " ==> $\n",
            "<span class=\"prdName\" id=\"bt_2_097_01_e92\"></span> $\n",
            " ==> $\n",
            "<span class=\"prdName\" id=\"bt_2_097_01_e199\"></span> $\n",
            " ==> $\n",
            "<span class=\"prdName\" id=\"bt_2_097_01_e205\"></span> $\n",
            " ==> $\n",
            "<span class=\"prdName\" id=\"bt_2_097_01_e98\"></span> $\n",
            " ==> $\n",
            "<span class=\"prdName\" id=\"bt_2_097_01_e104\"></span> $\n",
            " ==> $\n",
            "<span class=\"prdName\" id=\"bt_2_097_01_e110\"></span> $\n",
            " ==> $\n",
            "<span class=\"prdName\" id=\"bt_2_097_01_e211\"></span> $\n",
            " ==> $\n",
            "<span class=\"prdName\" id=\"bt_2_097_01_e217\"></span> $\n",
            " ==> $\n",
            "<span class=\"prdName\" id=\"bt_2_097_01_e116\"></span> $\n",
            " ==> $\n",
            "<span class=\"prdName\" id=\"bt_2_097_01_e122\"></span> $\n",
            " ==> $\n",
            "<span class=\"prdName\" id=\"bt_2_097_01_e128\"></span> $\n",
            " ==> $\n",
            "<span class=\"prdName\" id=\"bt_2_097_01_e223\"></span> $\n",
            " ==> $\n",
            "<span class=\"prdName\" id=\"bt_2_097_01_e229\"></span> $\n",
            " ==> $\n",
            "<span class=\"prdName\" id=\"bt_2_097_01_e133\"></span> $\n",
            " ==> $\n",
            "<span class=\"prdName\" id=\"bt_2_097_01_e139\"></span> $\n",
            " ==> $\n",
            "<span class=\"prdName\" id=\"bt_2_097_01_e145\"></span> $\n",
            " ==> $\n",
            "<span class=\"prdName\" id=\"bt_2_097_01_e235\"></span> $\n",
            " ==> $\n",
            "<span class=\"prdName\" id=\"bt_2_097_01_e241\"></span> $\n"
          ]
        }
      ]
    }
  ]
}